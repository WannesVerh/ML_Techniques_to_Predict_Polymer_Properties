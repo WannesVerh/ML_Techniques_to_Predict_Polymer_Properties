{
 "cells": [
  {
   "cell_type": "code",
   "execution_count": 2,
   "metadata": {},
   "outputs": [
    {
     "name": "stderr",
     "output_type": "stream",
     "text": [
      "No normalization for SPS. Feature removed!\n",
      "No normalization for AvgIpc. Feature removed!\n"
     ]
    },
    {
     "name": "stdout",
     "output_type": "stream",
     "text": [
      "Error: Unable to import pysam. Please make sure it is installed.\n",
      "Error: Unable to import pysam. Please make sure it is installed.\n",
      "Error: Unable to import pysam. Please make sure it is installed.\n",
      "WARNING:tensorflow:From c:\\Users\\wanne\\AppData\\Local\\Programs\\Python\\Python310\\lib\\site-packages\\keras\\src\\losses.py:2976: The name tf.losses.sparse_softmax_cross_entropy is deprecated. Please use tf.compat.v1.losses.sparse_softmax_cross_entropy instead.\n",
      "\n",
      "WARNING:tensorflow:From c:\\Users\\wanne\\AppData\\Local\\Programs\\Python\\Python310\\lib\\site-packages\\tensorflow\\python\\util\\deprecation.py:588: calling function (from tensorflow.python.eager.polymorphic_function.polymorphic_function) with experimental_relax_shapes is deprecated and will be removed in a future version.\n",
      "Instructions for updating:\n",
      "experimental_relax_shapes is deprecated, use reduce_retracing instead\n"
     ]
    },
    {
     "name": "stderr",
     "output_type": "stream",
     "text": [
      "Skipped loading modules with pytorch-geometric dependency, missing a dependency. No module named 'torch_geometric'\n",
      "Skipped loading modules with transformers dependency. No module named 'transformers'\n",
      "cannot import name 'HuggingFaceModel' from 'deepchem.models.torch_models' (c:\\Users\\wanne\\AppData\\Local\\Programs\\Python\\Python310\\lib\\site-packages\\deepchem\\models\\torch_models\\__init__.py)\n",
      "Skipped loading modules with pytorch-geometric dependency, missing a dependency. cannot import name 'DMPNN' from 'deepchem.models.torch_models' (c:\\Users\\wanne\\AppData\\Local\\Programs\\Python\\Python310\\lib\\site-packages\\deepchem\\models\\torch_models\\__init__.py)\n",
      "Skipped loading modules with pytorch-lightning dependency, missing a dependency. No module named 'lightning'\n",
      "Skipped loading some Jax models, missing a dependency. No module named 'jax'\n"
     ]
    }
   ],
   "source": [
    "import deepchem as dc\n",
    "import pandas as pd\n",
    "import numpy as np\n",
    "import rdkit"
   ]
  },
  {
   "cell_type": "code",
   "execution_count": 3,
   "metadata": {},
   "outputs": [],
   "source": [
    "from rdkit import Chem\n",
    "smiles = ['[*]CC([*])C', '[*]CCOC(=O)NCCOCCOCCNC(=O)O[*]', '[*]CCC(F)(F)C([*])(F)F']\n",
    "molecules = []\n",
    "for mol in smiles:\n",
    "    RDkitObj = Chem.MolFromSmiles(mol)\n",
    "    molecules.append(RDkitObj)\n",
    "\n"
   ]
  },
  {
   "cell_type": "code",
   "execution_count": 4,
   "metadata": {},
   "outputs": [
    {
     "name": "stdout",
     "output_type": "stream",
     "text": [
      "42.080999999999996\n",
      "262.26199999999994\n",
      "128.068\n"
     ]
    }
   ],
   "source": [
    "from rdkit.Chem import Descriptors\n",
    "\n",
    "for mol in molecules:\n",
    "    mol_weight = Descriptors.MolWt(mol)\n",
    "    print(mol_weight)"
   ]
  },
  {
   "cell_type": "code",
   "execution_count": 5,
   "metadata": {},
   "outputs": [
    {
     "data": {
      "image/png": "[encoded data removed]",
      "text/plain": [
       "<rdkit.Chem.rdchem.Mol at 0x1ef8b1c9460>"
      ]
     },
     "execution_count": 5,
     "metadata": {},
     "output_type": "execute_result"
    }
   ],
   "source": [
    "molecules[1]"
   ]
  },
  {
   "cell_type": "code",
   "execution_count": 6,
   "metadata": {},
   "outputs": [
    {
     "name": "stdout",
     "output_type": "stream",
     "text": [
      "210\n"
     ]
    }
   ],
   "source": [
    "from rdkit.Chem import Descriptors\n",
    "print(len(Descriptors._descList))"
   ]
  },
  {
   "cell_type": "code",
   "execution_count": 7,
   "metadata": {},
   "outputs": [],
   "source": [
    "def getMolDescriptors(mol, missingVal=None):\n",
    "    ''' calculate the full list of descriptors for a molecule\n",
    "    \n",
    "        missingVal is used if the descriptor cannot be calculated\n",
    "    '''\n",
    "    res = {}\n",
    "    for name,function in Descriptors._descList:\n",
    "        # some of the descriptor fucntions can throw errors if they fail, catch those here:\n",
    "        try:\n",
    "            val = function(mol)\n",
    "        except:\n",
    "            # print the error message:\n",
    "            import traceback\n",
    "            traceback.print_exc()\n",
    "            # and set the descriptor value to whatever missingVal is\n",
    "            val = missingVal\n",
    "        res[name] = val\n",
    "    return res"
   ]
  },
  {
   "cell_type": "code",
   "execution_count": 13,
   "metadata": {},
   "outputs": [
    {
     "data": {
      "text/plain": [
       "202"
      ]
     },
     "execution_count": 13,
     "metadata": {},
     "output_type": "execute_result"
    }
   ],
   "source": [
    "featurizer = dc.feat.RDKitDescriptors(use_bcut2d = False)\n",
    "features = featurizer.featurize(molecules)\n",
    "len(features[0])"
   ]
  },
  {
   "cell_type": "code",
   "execution_count": 14,
   "metadata": {},
   "outputs": [
    {
     "data": {
      "text/plain": [
       "{'MaxAbsEStateIndex': 2.3958333333333335,\n",
       " 'MaxEStateIndex': 2.3958333333333335,\n",
       " 'MinAbsEStateIndex': 0.75,\n",
       " 'MinEStateIndex': 0.75,\n",
       " 'qed': 0.4147201749014908,\n",
       " 'SPS': 25.666666666666668,\n",
       " 'MolWt': 42.080999999999996,\n",
       " 'HeavyAtomMolWt': 36.033,\n",
       " 'ExactMolWt': 42.046950192,\n",
       " 'NumValenceElectrons': 18,\n",
       " 'NumRadicalElectrons': 0,\n",
       " 'MaxPartialCharge': nan,\n",
       " 'MinPartialCharge': nan,\n",
       " 'MaxAbsPartialCharge': nan,\n",
       " 'MinAbsPartialCharge': nan,\n",
       " 'FpDensityMorgan1': 3.0,\n",
       " 'FpDensityMorgan2': 3.3333333333333335,\n",
       " 'FpDensityMorgan3': 3.3333333333333335,\n",
       " 'BCUT2D_MWHI': nan,\n",
       " 'BCUT2D_MWLOW': nan,\n",
       " 'BCUT2D_CHGHI': nan,\n",
       " 'BCUT2D_CHGLO': nan,\n",
       " 'BCUT2D_LOGPHI': nan,\n",
       " 'BCUT2D_LOGPLOW': nan,\n",
       " 'BCUT2D_MRHI': nan,\n",
       " 'BCUT2D_MRLOW': nan,\n",
       " 'AvgIpc': 1.3787834934861756,\n",
       " 'BalabanJ': 2.5395388613593908,\n",
       " 'BertzCT': 18.854752972273346,\n",
       " 'Chi0': 4.284457050376173,\n",
       " 'Chi0n': 2.284457050376173,\n",
       " 'Chi0v': 2.284457050376173,\n",
       " 'Chi1': 2.270055610029662,\n",
       " 'Chi1n': 0.9855985596534889,\n",
       " 'Chi1v': 0.9855985596534889,\n",
       " 'Chi2n': 0.408248290463863,\n",
       " 'Chi2v': 0.408248290463863,\n",
       " 'Chi3n': 0.0,\n",
       " 'Chi3v': 0.0,\n",
       " 'Chi4n': 0.0,\n",
       " 'Chi4v': 0.0,\n",
       " 'HallKierAlpha': 0.0,\n",
       " 'Ipc': 9.65148445440323,\n",
       " 'Kappa1': 0.75,\n",
       " 'Kappa2': 0.125,\n",
       " 'Kappa3': 0.0,\n",
       " 'LabuteASA': 21.469135256622767,\n",
       " 'PEOE_VSA1': 0.0,\n",
       " 'PEOE_VSA10': 0.0,\n",
       " 'PEOE_VSA11': 0.0,\n",
       " 'PEOE_VSA12': 0.0,\n",
       " 'PEOE_VSA13': 0.0,\n",
       " 'PEOE_VSA14': 20.268296022307258,\n",
       " 'PEOE_VSA2': 0.0,\n",
       " 'PEOE_VSA3': 0.0,\n",
       " 'PEOE_VSA4': 0.0,\n",
       " 'PEOE_VSA5': 0.0,\n",
       " 'PEOE_VSA6': 0.0,\n",
       " 'PEOE_VSA7': 0.0,\n",
       " 'PEOE_VSA8': 0.0,\n",
       " 'PEOE_VSA9': 0.0,\n",
       " 'SMR_VSA1': 0.0,\n",
       " 'SMR_VSA10': 0.0,\n",
       " 'SMR_VSA2': 0.0,\n",
       " 'SMR_VSA3': 0.0,\n",
       " 'SMR_VSA4': 0.0,\n",
       " 'SMR_VSA5': 20.268296022307258,\n",
       " 'SMR_VSA6': 0.0,\n",
       " 'SMR_VSA7': 0.0,\n",
       " 'SMR_VSA8': 0.0,\n",
       " 'SMR_VSA9': 0.0,\n",
       " 'SlogP_VSA1': 0.0,\n",
       " 'SlogP_VSA10': 0.0,\n",
       " 'SlogP_VSA11': 0.0,\n",
       " 'SlogP_VSA12': 0.0,\n",
       " 'SlogP_VSA2': 0.0,\n",
       " 'SlogP_VSA3': 0.0,\n",
       " 'SlogP_VSA4': 0.0,\n",
       " 'SlogP_VSA5': 6.923737199690624,\n",
       " 'SlogP_VSA6': 0.0,\n",
       " 'SlogP_VSA7': 13.344558822616634,\n",
       " 'SlogP_VSA8': 0.0,\n",
       " 'SlogP_VSA9': 0.0,\n",
       " 'TPSA': 0.0,\n",
       " 'EState_VSA1': 0.0,\n",
       " 'EState_VSA10': 0.0,\n",
       " 'EState_VSA11': 0.0,\n",
       " 'EState_VSA2': 0.0,\n",
       " 'EState_VSA3': 0.0,\n",
       " 'EState_VSA4': 0.0,\n",
       " 'EState_VSA5': 6.4208216229260096,\n",
       " 'EState_VSA6': 6.923737199690624,\n",
       " 'EState_VSA7': 0.0,\n",
       " 'EState_VSA8': 6.923737199690624,\n",
       " 'EState_VSA9': 0.0,\n",
       " 'VSA_EState1': 1.525462962962963,\n",
       " 'VSA_EState10': 0.0,\n",
       " 'VSA_EState2': 0.0,\n",
       " 'VSA_EState3': 0.0,\n",
       " 'VSA_EState4': 0.0,\n",
       " 'VSA_EState5': 0.0,\n",
       " 'VSA_EState6': 0.0,\n",
       " 'VSA_EState7': 1.2453703703703702,\n",
       " 'VSA_EState8': 4.0625,\n",
       " 'VSA_EState9': 0.0,\n",
       " 'FractionCSP3': 1.0,\n",
       " 'HeavyAtomCount': 3,\n",
       " 'NHOHCount': 0,\n",
       " 'NOCount': 0,\n",
       " 'NumAliphaticCarbocycles': 0,\n",
       " 'NumAliphaticHeterocycles': 0,\n",
       " 'NumAliphaticRings': 0,\n",
       " 'NumAromaticCarbocycles': 0,\n",
       " 'NumAromaticHeterocycles': 0,\n",
       " 'NumAromaticRings': 0,\n",
       " 'NumHAcceptors': 0,\n",
       " 'NumHDonors': 0,\n",
       " 'NumHeteroatoms': 2,\n",
       " 'NumRotatableBonds': 1,\n",
       " 'NumSaturatedCarbocycles': 0,\n",
       " 'NumSaturatedHeterocycles': 0,\n",
       " 'NumSaturatedRings': 0,\n",
       " 'RingCount': 0,\n",
       " 'MolLogP': 1.3117,\n",
       " 'MolMR': 14.231000000000002,\n",
       " 'fr_Al_COO': 0,\n",
       " 'fr_Al_OH': 0,\n",
       " 'fr_Al_OH_noTert': 0,\n",
       " 'fr_ArN': 0,\n",
       " 'fr_Ar_COO': 0,\n",
       " 'fr_Ar_N': 0,\n",
       " 'fr_Ar_NH': 0,\n",
       " 'fr_Ar_OH': 0,\n",
       " 'fr_COO': 0,\n",
       " 'fr_COO2': 0,\n",
       " 'fr_C_O': 0,\n",
       " 'fr_C_O_noCOO': 0,\n",
       " 'fr_C_S': 0,\n",
       " 'fr_HOCCN': 0,\n",
       " 'fr_Imine': 0,\n",
       " 'fr_NH0': 0,\n",
       " 'fr_NH1': 0,\n",
       " 'fr_NH2': 0,\n",
       " 'fr_N_O': 0,\n",
       " 'fr_Ndealkylation1': 0,\n",
       " 'fr_Ndealkylation2': 0,\n",
       " 'fr_Nhpyrrole': 0,\n",
       " 'fr_SH': 0,\n",
       " 'fr_aldehyde': 0,\n",
       " 'fr_alkyl_carbamate': 0,\n",
       " 'fr_alkyl_halide': 0,\n",
       " 'fr_allylic_oxid': 0,\n",
       " 'fr_amide': 0,\n",
       " 'fr_amidine': 0,\n",
       " 'fr_aniline': 0,\n",
       " 'fr_aryl_methyl': 0,\n",
       " 'fr_azide': 0,\n",
       " 'fr_azo': 0,\n",
       " 'fr_barbitur': 0,\n",
       " 'fr_benzene': 0,\n",
       " 'fr_benzodiazepine': 0,\n",
       " 'fr_bicyclic': 0,\n",
       " 'fr_diazo': 0,\n",
       " 'fr_dihydropyridine': 0,\n",
       " 'fr_epoxide': 0,\n",
       " 'fr_ester': 0,\n",
       " 'fr_ether': 0,\n",
       " 'fr_furan': 0,\n",
       " 'fr_guanido': 0,\n",
       " 'fr_halogen': 0,\n",
       " 'fr_hdrzine': 0,\n",
       " 'fr_hdrzone': 0,\n",
       " 'fr_imidazole': 0,\n",
       " 'fr_imide': 0,\n",
       " 'fr_isocyan': 0,\n",
       " 'fr_isothiocyan': 0,\n",
       " 'fr_ketone': 0,\n",
       " 'fr_ketone_Topliss': 0,\n",
       " 'fr_lactam': 0,\n",
       " 'fr_lactone': 0,\n",
       " 'fr_methoxy': 0,\n",
       " 'fr_morpholine': 0,\n",
       " 'fr_nitrile': 0,\n",
       " 'fr_nitro': 0,\n",
       " 'fr_nitro_arom': 0,\n",
       " 'fr_nitro_arom_nonortho': 0,\n",
       " 'fr_nitroso': 0,\n",
       " 'fr_oxazole': 0,\n",
       " 'fr_oxime': 0,\n",
       " 'fr_para_hydroxylation': 0,\n",
       " 'fr_phenol': 0,\n",
       " 'fr_phenol_noOrthoHbond': 0,\n",
       " 'fr_phos_acid': 0,\n",
       " 'fr_phos_ester': 0,\n",
       " 'fr_piperdine': 0,\n",
       " 'fr_piperzine': 0,\n",
       " 'fr_priamide': 0,\n",
       " 'fr_prisulfonamd': 0,\n",
       " 'fr_pyridine': 0,\n",
       " 'fr_quatN': 0,\n",
       " 'fr_sulfide': 0,\n",
       " 'fr_sulfonamd': 0,\n",
       " 'fr_sulfone': 0,\n",
       " 'fr_term_acetylene': 0,\n",
       " 'fr_tetrazole': 0,\n",
       " 'fr_thiazole': 0,\n",
       " 'fr_thiocyan': 0,\n",
       " 'fr_thiophene': 0,\n",
       " 'fr_unbrch_alkane': 0,\n",
       " 'fr_urea': 0}"
      ]
     },
     "execution_count": 14,
     "metadata": {},
     "output_type": "execute_result"
    }
   ],
   "source": [
    "descriptors = getMolDescriptors(molecules[0]) #[*]CC([*])C\n",
    "len(descriptors)\n",
    "descriptors"
   ]
  }
 ],
 "metadata": {
  "kernelspec": {
   "display_name": "Python 3",
   "language": "python",
   "name": "python3"
  },
  "language_info": {
   "codemirror_mode": {
    "name": "ipython",
    "version": 3
   },
   "file_extension": ".py",
   "mimetype": "text/x-python",
   "name": "python",
   "nbconvert_exporter": "python",
   "pygments_lexer": "ipython3",
   "version": "3.10.2"
  }
 },
 "nbformat": 4,
 "nbformat_minor": 2
}
