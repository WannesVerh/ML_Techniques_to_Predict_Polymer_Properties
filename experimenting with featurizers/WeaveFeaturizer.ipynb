{
 "cells": [
  {
   "cell_type": "code",
   "execution_count": null,
   "metadata": {},
   "outputs": [],
   "source": [
    "import deepchem as dc\n",
    "import pandas as pd\n",
    "import numpy as np"
   ]
  },
  {
   "cell_type": "code",
   "execution_count": 13,
   "metadata": {},
   "outputs": [],
   "source": [
    "smiles = ['[*]CC([*])C', '[*]CCOC(=O)NCCOCCOCCNC(=O)O[*]', '[*]CCC(F)(F)C([*])(F)F']\n",
    "values = [44.47, 0, 43.69]\n",
    "featurizer = dc.feat.WeaveFeaturizer()\n",
    "f2 = featurizer.featurize(smiles)"
   ]
  },
  {
   "cell_type": "code",
   "execution_count": 14,
   "metadata": {},
   "outputs": [
    {
     "data": {
      "text/html": [
       "<div>\n",
       "<style scoped>\n",
       "    .dataframe tbody tr th:only-of-type {\n",
       "        vertical-align: middle;\n",
       "    }\n",
       "\n",
       "    .dataframe tbody tr th {\n",
       "        vertical-align: top;\n",
       "    }\n",
       "\n",
       "    .dataframe thead th {\n",
       "        text-align: right;\n",
       "    }\n",
       "</style>\n",
       "<table border=\"1\" class=\"dataframe\">\n",
       "  <thead>\n",
       "    <tr style=\"text-align: right;\">\n",
       "      <th></th>\n",
       "      <th>X</th>\n",
       "      <th>y</th>\n",
       "      <th>w</th>\n",
       "      <th>ids</th>\n",
       "    </tr>\n",
       "  </thead>\n",
       "  <tbody>\n",
       "    <tr>\n",
       "      <th>0</th>\n",
       "      <td>&lt;deepchem.feat.mol_graphs.WeaveMol object at 0...</td>\n",
       "      <td>44.47</td>\n",
       "      <td>1.0</td>\n",
       "      <td>[*]CC([*])C</td>\n",
       "    </tr>\n",
       "    <tr>\n",
       "      <th>1</th>\n",
       "      <td>&lt;deepchem.feat.mol_graphs.WeaveMol object at 0...</td>\n",
       "      <td>0.00</td>\n",
       "      <td>1.0</td>\n",
       "      <td>[*]CCOC(=O)NCCOCCOCCNC(=O)O[*]</td>\n",
       "    </tr>\n",
       "    <tr>\n",
       "      <th>2</th>\n",
       "      <td>&lt;deepchem.feat.mol_graphs.WeaveMol object at 0...</td>\n",
       "      <td>43.69</td>\n",
       "      <td>1.0</td>\n",
       "      <td>[*]CCC(F)(F)C([*])(F)F</td>\n",
       "    </tr>\n",
       "  </tbody>\n",
       "</table>\n",
       "</div>"
      ],
      "text/plain": [
       "                                                   X      y    w  \\\n",
       "0  <deepchem.feat.mol_graphs.WeaveMol object at 0...  44.47  1.0   \n",
       "1  <deepchem.feat.mol_graphs.WeaveMol object at 0...   0.00  1.0   \n",
       "2  <deepchem.feat.mol_graphs.WeaveMol object at 0...  43.69  1.0   \n",
       "\n",
       "                              ids  \n",
       "0                     [*]CC([*])C  \n",
       "1  [*]CCOC(=O)NCCOCCOCCNC(=O)O[*]  \n",
       "2          [*]CCC(F)(F)C([*])(F)F  "
      ]
     },
     "execution_count": 14,
     "metadata": {},
     "output_type": "execute_result"
    }
   ],
   "source": [
    "dataset = dc.data.NumpyDataset(X=f2, y=np.array(values), ids=smiles)\n",
    "dataset.to_dataframe()\n"
   ]
  },
  {
   "cell_type": "code",
   "execution_count": 15,
   "metadata": {},
   "outputs": [
    {
     "data": {
      "text/plain": [
       "5"
      ]
     },
     "execution_count": 15,
     "metadata": {},
     "output_type": "execute_result"
    }
   ],
   "source": [
    "f2[0].get_num_atoms()\n"
   ]
  },
  {
   "cell_type": "code",
   "execution_count": 16,
   "metadata": {},
   "outputs": [
    {
     "data": {
      "text/plain": [
       "(5, 75)"
      ]
     },
     "execution_count": 16,
     "metadata": {},
     "output_type": "execute_result"
    }
   ],
   "source": [
    "f2[0].get_atom_features().shape"
   ]
  },
  {
   "cell_type": "code",
   "execution_count": 17,
   "metadata": {},
   "outputs": [
    {
     "data": {
      "text/plain": [
       "(25, 14)"
      ]
     },
     "execution_count": 17,
     "metadata": {},
     "output_type": "execute_result"
    }
   ],
   "source": [
    "f2[0].get_pair_features().shape"
   ]
  },
  {
   "cell_type": "code",
   "execution_count": null,
   "metadata": {},
   "outputs": [],
   "source": []
  },
  {
   "cell_type": "code",
   "execution_count": 21,
   "metadata": {},
   "outputs": [
    {
     "name": "stdout",
     "output_type": "stream",
     "text": [
      "for [*]CCOC(=O)NCCOCCOCCNC(=O)O[*]:  \n",
      " 20 \n",
      " (20, 75) \n",
      " (400, 14)\n"
     ]
    }
   ],
   "source": [
    "print(\"for [*]CCOC(=O)NCCOCCOCCNC(=O)O[*]: \", \"\\n\", f2[1].get_num_atoms(), \"\\n\",f2[1].get_atom_features().shape, \"\\n\", f2[1].get_pair_features().shape )"
   ]
  },
  {
   "cell_type": "code",
   "execution_count": 22,
   "metadata": {},
   "outputs": [
    {
     "name": "stdout",
     "output_type": "stream",
     "text": [
      "for [*]CCC(F)(F)C([*])(F)F:  \n",
      " 10 \n",
      " (10, 75) \n",
      " (100, 14)\n"
     ]
    }
   ],
   "source": [
    "print(\"for [*]CCC(F)(F)C([*])(F)F: \", \"\\n\", f2[2].get_num_atoms(), \"\\n\",f2[2].get_atom_features().shape, \"\\n\", f2[2].get_pair_features().shape )"
   ]
  }
 ],
 "metadata": {
  "kernelspec": {
   "display_name": "Python 3",
   "language": "python",
   "name": "python3"
  },
  "language_info": {
   "codemirror_mode": {
    "name": "ipython",
    "version": 3
   },
   "file_extension": ".py",
   "mimetype": "text/x-python",
   "name": "python",
   "nbconvert_exporter": "python",
   "pygments_lexer": "ipython3",
   "version": "3.10.2"
  }
 },
 "nbformat": 4,
 "nbformat_minor": 2
}
