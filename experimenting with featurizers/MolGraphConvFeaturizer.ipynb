{
 "cells": [
  {
   "cell_type": "code",
   "execution_count": null,
   "metadata": {},
   "outputs": [],
   "source": [
    "import deepchem as dc\n",
    "import pandas as pd\n",
    "import numpy as np"
   ]
  },
  {
   "cell_type": "code",
   "execution_count": 2,
   "metadata": {},
   "outputs": [],
   "source": [
    "smiles = ['[*]CC([*])C', '[*]CCOC(=O)NCCOCCOCCNC(=O)O[*]', '[*]CCC(F)(F)C([*])(F)F']\n",
    "values = [44.47, 0, 43.69]\n",
    "featurizer = dc.feat.MolGraphConvFeaturizer(use_edges=True)\n",
    "f = featurizer.featurize(smiles)"
   ]
  },
  {
   "cell_type": "code",
   "execution_count": 3,
   "metadata": {},
   "outputs": [
    {
     "data": {
      "text/html": [
       "<div>\n",
       "<style scoped>\n",
       "    .dataframe tbody tr th:only-of-type {\n",
       "        vertical-align: middle;\n",
       "    }\n",
       "\n",
       "    .dataframe tbody tr th {\n",
       "        vertical-align: top;\n",
       "    }\n",
       "\n",
       "    .dataframe thead th {\n",
       "        text-align: right;\n",
       "    }\n",
       "</style>\n",
       "<table border=\"1\" class=\"dataframe\">\n",
       "  <thead>\n",
       "    <tr style=\"text-align: right;\">\n",
       "      <th></th>\n",
       "      <th>X</th>\n",
       "      <th>y</th>\n",
       "      <th>w</th>\n",
       "      <th>ids</th>\n",
       "    </tr>\n",
       "  </thead>\n",
       "  <tbody>\n",
       "    <tr>\n",
       "      <th>0</th>\n",
       "      <td>GraphData(node_features=[5, 30], edge_index=[2...</td>\n",
       "      <td>44.47</td>\n",
       "      <td>1.0</td>\n",
       "      <td>[*]CC([*])C</td>\n",
       "    </tr>\n",
       "    <tr>\n",
       "      <th>1</th>\n",
       "      <td>GraphData(node_features=[20, 30], edge_index=[...</td>\n",
       "      <td>0.00</td>\n",
       "      <td>1.0</td>\n",
       "      <td>[*]CCOC(=O)NCCOCCOCCNC(=O)O[*]</td>\n",
       "    </tr>\n",
       "    <tr>\n",
       "      <th>2</th>\n",
       "      <td>GraphData(node_features=[10, 30], edge_index=[...</td>\n",
       "      <td>43.69</td>\n",
       "      <td>1.0</td>\n",
       "      <td>[*]CCC(F)(F)C([*])(F)F</td>\n",
       "    </tr>\n",
       "  </tbody>\n",
       "</table>\n",
       "</div>"
      ],
      "text/plain": [
       "                                                   X      y    w  \\\n",
       "0  GraphData(node_features=[5, 30], edge_index=[2...  44.47  1.0   \n",
       "1  GraphData(node_features=[20, 30], edge_index=[...   0.00  1.0   \n",
       "2  GraphData(node_features=[10, 30], edge_index=[...  43.69  1.0   \n",
       "\n",
       "                              ids  \n",
       "0                     [*]CC([*])C  \n",
       "1  [*]CCOC(=O)NCCOCCOCCNC(=O)O[*]  \n",
       "2          [*]CCC(F)(F)C([*])(F)F  "
      ]
     },
     "execution_count": 3,
     "metadata": {},
     "output_type": "execute_result"
    }
   ],
   "source": [
    "dataset = dc.data.NumpyDataset(X=f, y=np.array(values), ids=smiles)\n",
    "dataset.to_dataframe()\n"
   ]
  },
  {
   "cell_type": "code",
   "execution_count": 9,
   "metadata": {},
   "outputs": [
    {
     "data": {
      "text/plain": [
       "GraphData(node_features=[5, 30], edge_index=[2, 8], edge_features=[8, 11])"
      ]
     },
     "execution_count": 9,
     "metadata": {},
     "output_type": "execute_result"
    }
   ],
   "source": [
    "f[0] #[*]CC([*])C"
   ]
  },
  {
   "cell_type": "code",
   "execution_count": 10,
   "metadata": {},
   "outputs": [
    {
     "data": {
      "text/plain": [
       "GraphData(node_features=[20, 30], edge_index=[2, 38], edge_features=[38, 11])"
      ]
     },
     "execution_count": 10,
     "metadata": {},
     "output_type": "execute_result"
    }
   ],
   "source": [
    "f[1] #[*]CCOC(=O)NCCOCCOCCNC(=O)O[*]"
   ]
  },
  {
   "cell_type": "code",
   "execution_count": 11,
   "metadata": {},
   "outputs": [
    {
     "data": {
      "text/plain": [
       "GraphData(node_features=[10, 30], edge_index=[2, 18], edge_features=[18, 11])"
      ]
     },
     "execution_count": 11,
     "metadata": {},
     "output_type": "execute_result"
    }
   ],
   "source": [
    "f[2] #[*]CCC(F)(F)C([*])(F)F"
   ]
  }
 ],
 "metadata": {
  "kernelspec": {
   "display_name": "Python 3",
   "language": "python",
   "name": "python3"
  },
  "language_info": {
   "codemirror_mode": {
    "name": "ipython",
    "version": 3
   },
   "file_extension": ".py",
   "mimetype": "text/x-python",
   "name": "python",
   "nbconvert_exporter": "python",
   "pygments_lexer": "ipython3",
   "version": "3.10.2"
  }
 },
 "nbformat": 4,
 "nbformat_minor": 2
}
