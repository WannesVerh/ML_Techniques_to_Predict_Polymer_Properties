{
 "cells": [
  {
   "cell_type": "code",
   "execution_count": null,
   "metadata": {},
   "outputs": [],
   "source": [
    "import deepchem as dc\n",
    "import pandas as pd\n",
    "import numpy as np\n",
    "import rdkit"
   ]
  },
  {
   "cell_type": "code",
   "execution_count": 2,
   "metadata": {},
   "outputs": [],
   "source": [
    "smiles = ['[*]CC([*])C', '[*]CCOC(=O)NCCOCCOCCNC(=O)O[*]', '[*]CCC(F)(F)C([*])(F)F']"
   ]
  },
  {
   "cell_type": "code",
   "execution_count": 9,
   "metadata": {},
   "outputs": [
    {
     "name": "stderr",
     "output_type": "stream",
     "text": [
      "Failed to featurize datapoint 0, *CC(*)C. Appending empty array\n",
      "Exception message: '<unk>'\n",
      "Failed to featurize datapoint 1, *CCOC(=O)NCCOCCOCCNC(=O)O*. Appending empty array\n",
      "Exception message: '<unk>'\n",
      "Failed to featurize datapoint 2, *CCC(F)(F)C(*)(F)F. Appending empty array\n",
      "Exception message: '<unk>'\n"
     ]
    },
    {
     "data": {
      "text/plain": [
       "3"
      ]
     },
     "execution_count": 9,
     "metadata": {},
     "output_type": "execute_result"
    }
   ],
   "source": [
    "Dict = {}\n",
    "featurizer = dc.feat.SmilesToSeq(char_to_idx= Dict)\n",
    "features = featurizer.featurize(smiles)\n",
    "len(features)"
   ]
  }
 ],
 "metadata": {
  "kernelspec": {
   "display_name": "Python 3",
   "language": "python",
   "name": "python3"
  },
  "language_info": {
   "codemirror_mode": {
    "name": "ipython",
    "version": 3
   },
   "file_extension": ".py",
   "mimetype": "text/x-python",
   "name": "python",
   "nbconvert_exporter": "python",
   "pygments_lexer": "ipython3",
   "version": "3.10.2"
  }
 },
 "nbformat": 4,
 "nbformat_minor": 2
}
