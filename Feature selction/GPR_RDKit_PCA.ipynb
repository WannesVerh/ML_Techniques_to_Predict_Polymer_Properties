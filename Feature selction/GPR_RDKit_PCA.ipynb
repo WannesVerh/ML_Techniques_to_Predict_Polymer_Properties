{
 "cells": [
  {
   "cell_type": "markdown",
   "metadata": {},
   "source": [
    "Train a GPR model with \"RDkit featurization\" and check performance by r2_score, MSE, MAE"
   ]
  },
  {
   "cell_type": "code",
   "execution_count": 1,
   "metadata": {},
   "outputs": [
    {
     "name": "stderr",
     "output_type": "stream",
     "text": [
      "No normalization for SPS. Feature removed!\n",
      "No normalization for AvgIpc. Feature removed!\n"
     ]
    },
    {
     "name": "stdout",
     "output_type": "stream",
     "text": [
      "Error: Unable to import pysam. Please make sure it is installed.\n",
      "Error: Unable to import pysam. Please make sure it is installed.\n",
      "Error: Unable to import pysam. Please make sure it is installed.\n",
      "WARNING:tensorflow:From c:\\Users\\wanne\\AppData\\Local\\Programs\\Python\\Python310\\lib\\site-packages\\keras\\src\\losses.py:2976: The name tf.losses.sparse_softmax_cross_entropy is deprecated. Please use tf.compat.v1.losses.sparse_softmax_cross_entropy instead.\n",
      "\n",
      "WARNING:tensorflow:From c:\\Users\\wanne\\AppData\\Local\\Programs\\Python\\Python310\\lib\\site-packages\\tensorflow\\python\\util\\deprecation.py:588: calling function (from tensorflow.python.eager.polymorphic_function.polymorphic_function) with experimental_relax_shapes is deprecated and will be removed in a future version.\n",
      "Instructions for updating:\n",
      "experimental_relax_shapes is deprecated, use reduce_retracing instead\n"
     ]
    },
    {
     "name": "stderr",
     "output_type": "stream",
     "text": [
      "Skipped loading modules with pytorch-geometric dependency, missing a dependency. No module named 'torch_geometric'\n",
      "Skipped loading modules with transformers dependency. No module named 'transformers'\n",
      "cannot import name 'HuggingFaceModel' from 'deepchem.models.torch_models' (c:\\Users\\wanne\\AppData\\Local\\Programs\\Python\\Python310\\lib\\site-packages\\deepchem\\models\\torch_models\\__init__.py)\n",
      "Skipped loading modules with pytorch-geometric dependency, missing a dependency. cannot import name 'DMPNN' from 'deepchem.models.torch_models' (c:\\Users\\wanne\\AppData\\Local\\Programs\\Python\\Python310\\lib\\site-packages\\deepchem\\models\\torch_models\\__init__.py)\n",
      "Skipped loading modules with pytorch-lightning dependency, missing a dependency. No module named 'lightning'\n",
      "Skipped loading some Jax models, missing a dependency. No module named 'jax'\n"
     ]
    }
   ],
   "source": [
    "# Train a GPR model with RDkit featurization\n",
    "import deepchem as dc\n",
    "import pandas as pd\n",
    "import numpy as np\n",
    "import rdkit\n",
    "import sklearn"
   ]
  },
  {
   "cell_type": "code",
   "execution_count": 2,
   "metadata": {},
   "outputs": [
    {
     "name": "stdout",
     "output_type": "stream",
     "text": [
      "loading the data...\n"
     ]
    }
   ],
   "source": [
    "#load the dataset (polymer smiles and their energy of atomization)\n",
    "\n",
    "print(\"loading the data...\")\n",
    "loader = dc.data.CSVLoader([\"Eat\"], feature_field=\"smiles\", featurizer=dc.feat.RDKitDescriptors())\n",
    "Data = loader.create_dataset('../csv_files/Polymers_Eat.csv')"
   ]
  },
  {
   "cell_type": "code",
   "execution_count": 3,
   "metadata": {},
   "outputs": [
    {
     "name": "stdout",
     "output_type": "stream",
     "text": [
      "before:   <DiskDataset X.shape: (390, 210), y.shape: (390, 1), w.shape: (390, 1), ids: ['[*]CC([*])C' '[*]CC([*])F' '[*]CC([*])(F)F' ...\n",
      " '[*]C(F)(F)C(=O)C(F)(F)C(C=C1)=CC=C1[*]' '[*]C(F)(F)OC(F)(F)O[*]'\n",
      " '[*]N(C(=O)C1=C2)C(=O)C1=CC=C2C(=O)C(=CC=C3C4(=O))C=C3C(=O)N4C(C)COCCOCCOC(C)COCC(C)[*]'], task_names: ['Eat']>\n",
      "[0.94601902 0.02669832 0.00713998 0.00553149 0.00475171]\n",
      "(390, 5)\n",
      "after:   <DiskDataset X.shape: (390, 5), y.shape: (390, 1), w.shape: (390, 1), ids: ['[*]CC([*])C' '[*]CC([*])F' '[*]CC([*])(F)F' ...\n",
      " '[*]C(F)(F)C(=O)C(F)(F)C(C=C1)=CC=C1[*]' '[*]C(F)(F)OC(F)(F)O[*]'\n",
      " '[*]N(C(=O)C1=C2)C(=O)C1=CC=C2C(=O)C(=CC=C3C4(=O))C=C3C(=O)N4C(C)COCCOCCOC(C)COCC(C)[*]'], task_names: ['Ei']>\n"
     ]
    }
   ],
   "source": [
    "print(\"before:  \",Data)\n",
    "#some RDKit descriptors return nan, make these 0\n",
    "X = np.nan_to_num(Data.X, copy=True, nan=0, neginf=0, posinf= 0)\n",
    "\n",
    "#now run pca to reduce the amount of features (keep 99%)\n",
    "from sklearn.decomposition import PCA\n",
    "\n",
    "#get the principal components that retain 99 % of the info\n",
    "pca = PCA(0.99)\n",
    "X_PCA = pca.fit_transform(X)\n",
    "print(pca.explained_variance_ratio_)\n",
    "print(X_PCA.shape)\n",
    "\n",
    "#add data to dataset\n",
    "Dataset = dc.data.DiskDataset.from_numpy(X=X_PCA, y=Data.y, w=Data.w, ids=Data.ids, tasks = [\"Ei\"])\n",
    "print(\"after:  \",Dataset)"
   ]
  },
  {
   "cell_type": "code",
   "execution_count": 4,
   "metadata": {},
   "outputs": [
    {
     "name": "stdout",
     "output_type": "stream",
     "text": [
      "Data is splitted into: train, valid, test\n"
     ]
    }
   ],
   "source": [
    "#split the dataset using the random splitter\n",
    "splitter = dc.splits.RandomSplitter()\n",
    "train_dataset, test_dataset = splitter.train_test_split(Dataset)\n",
    "print(\"Data is splitted into: train, valid, test\")"
   ]
  },
  {
   "cell_type": "code",
   "execution_count": 177,
   "metadata": {},
   "outputs": [
    {
     "name": "stdout",
     "output_type": "stream",
     "text": [
      "[[-6.08]\n",
      " [-6.51]\n",
      " [-5.98]\n",
      " [-5.92]\n",
      " [-5.86]\n",
      " [-5.15]\n",
      " [-6.42]\n",
      " [-6.4 ]\n",
      " [-5.49]\n",
      " [-6.07]\n",
      " [-5.86]\n",
      " [-5.69]\n",
      " [-6.22]\n",
      " [-5.52]\n",
      " [-6.14]\n",
      " [-5.82]\n",
      " [-6.26]\n",
      " [-6.  ]\n",
      " [-6.24]\n",
      " [-6.11]\n",
      " [-5.99]\n",
      " [-6.  ]\n",
      " [-6.02]\n",
      " [-6.26]\n",
      " [-5.66]\n",
      " [-5.94]\n",
      " [-6.21]\n",
      " [-6.12]\n",
      " [-5.31]\n",
      " [-5.08]\n",
      " [-5.92]\n",
      " [-5.22]\n",
      " [-5.66]\n",
      " [-6.14]\n",
      " [-6.34]\n",
      " [-6.12]\n",
      " [-5.96]\n",
      " [-6.02]\n",
      " [-5.25]\n",
      " [-5.79]\n",
      " [-5.52]\n",
      " [-5.8 ]\n",
      " [-5.69]\n",
      " [-6.05]\n",
      " [-6.19]\n",
      " [-6.27]\n",
      " [-5.74]\n",
      " [-5.61]\n",
      " [-6.3 ]\n",
      " [-6.14]\n",
      " [-5.84]\n",
      " [-6.27]\n",
      " [-5.99]\n",
      " [-5.2 ]\n",
      " [-6.34]\n",
      " [-5.12]\n",
      " [-6.  ]\n",
      " [-6.34]\n",
      " [-6.47]\n",
      " [-6.18]\n",
      " [-5.21]\n",
      " [-5.41]\n",
      " [-5.95]\n",
      " [-5.29]\n",
      " [-5.25]\n",
      " [-6.27]\n",
      " [-5.88]\n",
      " [-5.9 ]\n",
      " [-6.17]\n",
      " [-5.8 ]\n",
      " [-6.18]\n",
      " [-5.78]\n",
      " [-5.27]\n",
      " [-5.56]\n",
      " [-6.21]\n",
      " [-6.23]\n",
      " [-6.09]\n",
      " [-6.05]]\n"
     ]
    }
   ],
   "source": [
    "print(test_dataset.y)"
   ]
  },
  {
   "cell_type": "code",
   "execution_count": 6,
   "metadata": {},
   "outputs": [
    {
     "name": "stdout",
     "output_type": "stream",
     "text": [
      "fitting model...\n",
      "model is fitted\n"
     ]
    }
   ],
   "source": [
    "# create the GPR model & fit the model\n",
    "from sklearn.gaussian_process import GaussianProcessRegressor\n",
    "from sklearn.gaussian_process.kernels import RBF\n",
    "\n",
    "kernel = 1 * RBF()\n",
    "model = dc.models.SklearnModel(GaussianProcessRegressor( kernel = kernel, n_restarts_optimizer=20))\n",
    "\n",
    "print(\"fitting model...\")\n",
    "model.fit(train_dataset)\n",
    "print(\"model is fitted\")\n"
   ]
  },
  {
   "cell_type": "code",
   "execution_count": 7,
   "metadata": {},
   "outputs": [
    {
     "name": "stdout",
     "output_type": "stream",
     "text": [
      "Training set score: {'pearson_r2_score': 0.999999999999996}\n",
      "Test set score: {'pearson_r2_score': 0.02630289929452448}\n"
     ]
    }
   ],
   "source": [
    "#calculate r2 score\n",
    "metric = dc.metrics.Metric(dc.metrics.pearson_r2_score)\n",
    "print('Training set score:', model.evaluate(train_dataset, metric))\n",
    "test_score= model.evaluate(test_dataset, metric)\n",
    "print('Test set score:',test_score )"
   ]
  },
  {
   "cell_type": "code",
   "execution_count": 8,
   "metadata": {},
   "outputs": [
    {
     "name": "stdout",
     "output_type": "stream",
     "text": [
      "Training set score: {'mean_squared_error': 5.529848790200953e-16}\n",
      "Test set score: {'mean_squared_error': 2.38405836861882}\n"
     ]
    }
   ],
   "source": [
    "#calculate MSE score\n",
    "metric = dc.metrics.Metric(dc.metrics.mean_squared_error)\n",
    "print('Training set score:', model.evaluate(train_dataset, metric))\n",
    "print('Test set score:', model.evaluate(test_dataset, metric))"
   ]
  },
  {
   "cell_type": "code",
   "execution_count": 9,
   "metadata": {},
   "outputs": [
    {
     "name": "stdout",
     "output_type": "stream",
     "text": [
      "Training set score: {'mean_absolute_error': 4.526007713911129e-09}\n",
      "Test set score: {'mean_absolute_error': 0.631572810503212}\n"
     ]
    }
   ],
   "source": [
    "#calculate MAE score\n",
    "metric = dc.metrics.Metric(dc.metrics.mean_absolute_error)\n",
    "print('Training set score:', model.evaluate(train_dataset, metric))\n",
    "print('Test set score:', model.evaluate(test_dataset, metric))"
   ]
  },
  {
   "cell_type": "code",
   "execution_count": 10,
   "metadata": {},
   "outputs": [
    {
     "data": {
      "image/png": "[encoded data removed]",
      "text/plain": [
       "<Figure size 640x480 with 1 Axes>"
      ]
     },
     "metadata": {},
     "output_type": "display_data"
    }
   ],
   "source": [
    "#plot the data\n",
    "import matplotlib.pyplot as plt\n",
    "from sklearn.metrics import r2_score\n",
    "\n",
    "#predict the r2_score and convert to string\n",
    "predicted = model.predict(test_dataset)\n",
    "score =r2_score(test_dataset.y, predicted)\n",
    "text = \"r2= \"+ str(round(score,3))\n",
    "\n",
    "x=[-10,0]\n",
    "y=[-10,0]\n",
    "#text = \"R2= \"+ str(round(test_score))\n",
    "plt.plot(x, y, linestyle=\"dashed\")\n",
    "plt.scatter(test_dataset.y, predicted, label=\"Observations\")\n",
    "plt.legend()\n",
    "plt.xlabel(\"experimental ionisation energy (eV)\")\n",
    "plt.ylabel(\"ML predicted ionisation energy (eV)\")\n",
    "plt.title(\"GPR with RDkit descriptors_adapted dataset\")\n",
    "plt.text(-10,-1,text)\n",
    "plt.show()\n"
   ]
  }
 ],
 "metadata": {
  "kernelspec": {
   "display_name": "Python 3",
   "language": "python",
   "name": "python3"
  },
  "language_info": {
   "codemirror_mode": {
    "name": "ipython",
    "version": 3
   },
   "file_extension": ".py",
   "mimetype": "text/x-python",
   "name": "python",
   "nbconvert_exporter": "python",
   "pygments_lexer": "ipython3",
   "version": "3.10.2"
  }
 },
 "nbformat": 4,
 "nbformat_minor": 2
}
