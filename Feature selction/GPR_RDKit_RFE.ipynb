{
 "cells": [
  {
   "cell_type": "markdown",
   "metadata": {},
   "source": [
    "Train a GPR model with \"RDkit featurization\" and check performance by r2_score, MSE, MAE"
   ]
  },
  {
   "cell_type": "code",
   "execution_count": 1,
   "metadata": {},
   "outputs": [
    {
     "name": "stderr",
     "output_type": "stream",
     "text": [
      "No normalization for SPS. Feature removed!\n",
      "No normalization for AvgIpc. Feature removed!\n"
     ]
    },
    {
     "name": "stdout",
     "output_type": "stream",
     "text": [
      "Error: Unable to import pysam. Please make sure it is installed.\n",
      "Error: Unable to import pysam. Please make sure it is installed.\n",
      "Error: Unable to import pysam. Please make sure it is installed.\n",
      "WARNING:tensorflow:From c:\\Users\\wanne\\AppData\\Local\\Programs\\Python\\Python310\\lib\\site-packages\\keras\\src\\losses.py:2976: The name tf.losses.sparse_softmax_cross_entropy is deprecated. Please use tf.compat.v1.losses.sparse_softmax_cross_entropy instead.\n",
      "\n",
      "WARNING:tensorflow:From c:\\Users\\wanne\\AppData\\Local\\Programs\\Python\\Python310\\lib\\site-packages\\tensorflow\\python\\util\\deprecation.py:588: calling function (from tensorflow.python.eager.polymorphic_function.polymorphic_function) with experimental_relax_shapes is deprecated and will be removed in a future version.\n",
      "Instructions for updating:\n",
      "experimental_relax_shapes is deprecated, use reduce_retracing instead\n"
     ]
    },
    {
     "name": "stderr",
     "output_type": "stream",
     "text": [
      "Skipped loading modules with pytorch-geometric dependency, missing a dependency. No module named 'torch_geometric'\n",
      "Skipped loading modules with transformers dependency. No module named 'transformers'\n",
      "cannot import name 'HuggingFaceModel' from 'deepchem.models.torch_models' (c:\\Users\\wanne\\AppData\\Local\\Programs\\Python\\Python310\\lib\\site-packages\\deepchem\\models\\torch_models\\__init__.py)\n",
      "Skipped loading modules with pytorch-geometric dependency, missing a dependency. cannot import name 'DMPNN' from 'deepchem.models.torch_models' (c:\\Users\\wanne\\AppData\\Local\\Programs\\Python\\Python310\\lib\\site-packages\\deepchem\\models\\torch_models\\__init__.py)\n",
      "Skipped loading modules with pytorch-lightning dependency, missing a dependency. No module named 'lightning'\n",
      "Skipped loading some Jax models, missing a dependency. No module named 'jax'\n"
     ]
    }
   ],
   "source": [
    "# Train a GPR model with RDkit featurization\n",
    "import deepchem as dc\n",
    "import pandas as pd\n",
    "import numpy as np\n",
    "import rdkit\n",
    "import sklearn"
   ]
  },
  {
   "cell_type": "code",
   "execution_count": 2,
   "metadata": {},
   "outputs": [
    {
     "name": "stdout",
     "output_type": "stream",
     "text": [
      "loading the data...\n"
     ]
    }
   ],
   "source": [
    "#load the dataset (polymer smiles and their energy of atomization)\n",
    "\n",
    "print(\"loading the data...\")\n",
    "loader = dc.data.CSVLoader([\"Eat\"], feature_field=\"smiles\", featurizer=dc.feat.RDKitDescriptors())\n",
    "Data = loader.create_dataset('../csv_files/Polymers_Eat.csv')"
   ]
  },
  {
   "cell_type": "code",
   "execution_count": 14,
   "metadata": {},
   "outputs": [
    {
     "ename": "AttributeError",
     "evalue": "'numpy.ndarray' object has no attribute 'feat'",
     "output_type": "error",
     "traceback": [
      "\u001b[1;31m---------------------------------------------------------------------------\u001b[0m",
      "\u001b[1;31mAttributeError\u001b[0m                            Traceback (most recent call last)",
      "Cell \u001b[1;32mIn[14], line 6\u001b[0m\n\u001b[0;32m      4\u001b[0m \u001b[38;5;66;03m#add data to dataset\u001b[39;00m\n\u001b[0;32m      5\u001b[0m Dataset \u001b[38;5;241m=\u001b[39m dc\u001b[38;5;241m.\u001b[39mdata\u001b[38;5;241m.\u001b[39mDiskDataset\u001b[38;5;241m.\u001b[39mfrom_numpy(X\u001b[38;5;241m=\u001b[39mX, y\u001b[38;5;241m=\u001b[39mData\u001b[38;5;241m.\u001b[39my, w\u001b[38;5;241m=\u001b[39mData\u001b[38;5;241m.\u001b[39mw, ids\u001b[38;5;241m=\u001b[39mData\u001b[38;5;241m.\u001b[39mids, tasks \u001b[38;5;241m=\u001b[39m [\u001b[38;5;124m\"\u001b[39m\u001b[38;5;124mEat\u001b[39m\u001b[38;5;124m\"\u001b[39m])\n\u001b[1;32m----> 6\u001b[0m \u001b[43mDataset\u001b[49m\u001b[38;5;241;43m.\u001b[39;49m\u001b[43mX\u001b[49m\u001b[38;5;241;43m.\u001b[39;49m\u001b[43mfeat\u001b[49m\n",
      "\u001b[1;31mAttributeError\u001b[0m: 'numpy.ndarray' object has no attribute 'feat'"
     ]
    }
   ],
   "source": [
    "#some RDKit descriptors return nan, make these 0\n",
    "X = np.nan_to_num(Data.X, copy=True, nan=0)\n",
    "\n",
    "#add data to dataset\n",
    "Dataset = dc.data.DiskDataset.from_numpy(X=X, y=Data.y, w=Data.w, ids=Data.ids, tasks = [\"Eat\"])\n",
    "Dataset.X.feat"
   ]
  },
  {
   "cell_type": "code",
   "execution_count": 20,
   "metadata": {},
   "outputs": [
    {
     "data": {
      "text/plain": [
       "array([6, 5, 4, 4, 4, 3, 3, 3, 3, 1, 1, 3, 1, 1, 2, 1, 1, 1, 1, 2, 2, 2,\n",
       "       1, 4, 3, 4, 1, 1, 2, 1, 1, 2, 1, 1, 1, 2, 2, 1, 1, 1, 2, 3, 2, 1,\n",
       "       1, 1, 2, 1, 4, 2, 4, 1, 7, 1, 7, 1, 1, 1, 3, 4, 7, 5, 7, 7, 5, 7,\n",
       "       1, 7, 1, 7, 1, 7, 7, 8, 7, 8, 5, 5, 3, 6, 2, 6, 6, 6, 8, 6, 6, 7,\n",
       "       6, 3, 2, 1, 8, 9, 8, 1, 3, 1, 8, 1, 1, 1, 2, 6, 8, 2, 2, 8, 2, 4,\n",
       "       5, 1, 9, 1, 1, 1, 1, 1, 1, 1, 1, 2, 1, 8, 9, 9, 9, 9, 9, 9, 9, 9,\n",
       "       9, 9, 9, 4, 5, 8, 8, 6, 1, 6, 1, 6, 6, 6, 6, 6, 6, 7, 7, 3, 7, 7,\n",
       "       7, 7, 7, 7, 6, 6, 6, 5, 5, 5, 5, 3, 5, 5, 4, 5, 5, 5, 3, 5, 5, 4,\n",
       "       4, 4, 4, 4, 4, 4, 8, 8, 8, 8, 8, 9, 9, 9, 9, 9, 9, 9, 8, 8, 8, 4,\n",
       "       3, 4, 3, 3, 3, 3, 3, 5, 2, 5, 8, 1])"
      ]
     },
     "execution_count": 20,
     "metadata": {},
     "output_type": "execute_result"
    }
   ],
   "source": [
    "#now run RFE to select the most important features \n",
    "from sklearn.feature_selection import RFE\n",
    "from sklearn.gaussian_process import GaussianProcessRegressor\n",
    "from sklearn.gaussian_process.kernels import RBF\n",
    "from sklearn.tree import DecisionTreeRegressor\n",
    "\n",
    "selector = RFE(estimator=DecisionTreeRegressor(), n_features_to_select=50, step = 20)\n",
    "SelectedData = selector.fit_transform(Dataset.X, Dataset.y.ravel()) #y is a colum vector but it needs a 1d array -> ravel fixes this\n",
    "selector.support_ #this returns an array with true and false True are the selected features\n",
    "selector.ranking_\n",
    "#SelectedData.get"
   ]
  },
  {
   "cell_type": "code",
   "execution_count": 176,
   "metadata": {},
   "outputs": [
    {
     "name": "stdout",
     "output_type": "stream",
     "text": [
      "Data is splitted into: train, valid, test\n"
     ]
    }
   ],
   "source": [
    "#split the dataset using the random splitter\n",
    "splitter = dc.splits.RandomSplitter()\n",
    "train_dataset, test_dataset = splitter.train_test_split(Dataset)\n",
    "print(\"Data is splitted into: train and test\")"
   ]
  },
  {
   "cell_type": "code",
   "execution_count": 190,
   "metadata": {},
   "outputs": [
    {
     "name": "stdout",
     "output_type": "stream",
     "text": [
      "fitting model...\n",
      "model is fitted\n"
     ]
    }
   ],
   "source": [
    "# create the GPR model & fit the model\n",
    "from sklearn.gaussian_process import GaussianProcessRegressor\n",
    "from sklearn.gaussian_process.kernels import RBF\n",
    "\n",
    "kernel = 1 * RBF()\n",
    "model = dc.models.SklearnModel(GaussianProcessRegressor( kernel = kernel, n_restarts_optimizer=100))\n",
    "\n",
    "print(\"fitting model...\")\n",
    "model.fit(train_dataset)\n",
    "print(\"model is fitted\")\n"
   ]
  },
  {
   "cell_type": "code",
   "execution_count": 191,
   "metadata": {},
   "outputs": [
    {
     "name": "stdout",
     "output_type": "stream",
     "text": [
      "Training set score: {'pearson_r2_score': 0.9999999999999967}\n",
      "Test set score: {'pearson_r2_score': 0.004563632631710798}\n"
     ]
    }
   ],
   "source": [
    "#calculate r2 score\n",
    "metric = dc.metrics.Metric(dc.metrics.pearson_r2_score)\n",
    "print('Training set score:', model.evaluate(train_dataset, metric))\n",
    "test_score= model.evaluate(test_dataset, metric)\n",
    "print('Test set score:',test_score )"
   ]
  },
  {
   "cell_type": "code",
   "execution_count": 192,
   "metadata": {},
   "outputs": [
    {
     "name": "stdout",
     "output_type": "stream",
     "text": [
      "Training set score: {'mean_squared_error': 3.92923755414781e-16}\n",
      "Test set score: {'mean_squared_error': 7.801811002144212}\n"
     ]
    }
   ],
   "source": [
    "#calculate MSE score\n",
    "metric = dc.metrics.Metric(dc.metrics.mean_squared_error)\n",
    "print('Training set score:', model.evaluate(train_dataset, metric))\n",
    "print('Test set score:', model.evaluate(test_dataset, metric))"
   ]
  },
  {
   "cell_type": "code",
   "execution_count": 193,
   "metadata": {},
   "outputs": [
    {
     "name": "stdout",
     "output_type": "stream",
     "text": [
      "Training set score: {'mean_absolute_error': 2.260620124143286e-09}\n",
      "Test set score: {'mean_absolute_error': 1.7471921367097623}\n"
     ]
    }
   ],
   "source": [
    "#calculate MAE score\n",
    "metric = dc.metrics.Metric(dc.metrics.mean_absolute_error)\n",
    "print('Training set score:', model.evaluate(train_dataset, metric))\n",
    "print('Test set score:', model.evaluate(test_dataset, metric))"
   ]
  },
  {
   "cell_type": "code",
   "execution_count": 194,
   "metadata": {},
   "outputs": [
    {
     "data": {
      "image/png": "[encoded data removed]",
      "text/plain": [
       "<Figure size 640x480 with 1 Axes>"
      ]
     },
     "metadata": {},
     "output_type": "display_data"
    }
   ],
   "source": [
    "#plot the data\n",
    "import matplotlib.pyplot as plt\n",
    "from sklearn.metrics import r2_score\n",
    "\n",
    "#predict the r2_score and convert to string\n",
    "predicted = model.predict(test_dataset)\n",
    "score =r2_score(test_dataset.y, predicted)\n",
    "text = \"r2= \"+ str(round(score,3))\n",
    "\n",
    "x=[-10,0]\n",
    "y=[-10,0]\n",
    "#text = \"R2= \"+ str(round(test_score))\n",
    "plt.plot(x, y, linestyle=\"dashed\")\n",
    "plt.scatter(test_dataset.y, predicted, label=\"Observations\")\n",
    "plt.legend()\n",
    "plt.xlabel(\"experimental ionisation energy (eV)\")\n",
    "plt.ylabel(\"ML predicted ionisation energy (eV)\")\n",
    "plt.title(\"GPR with RDkit descriptors_adapted dataset\")\n",
    "plt.text(-10,-1,text)\n",
    "plt.show()\n"
   ]
  }
 ],
 "metadata": {
  "kernelspec": {
   "display_name": "Python 3",
   "language": "python",
   "name": "python3"
  },
  "language_info": {
   "codemirror_mode": {
    "name": "ipython",
    "version": 3
   },
   "file_extension": ".py",
   "mimetype": "text/x-python",
   "name": "python",
   "nbconvert_exporter": "python",
   "pygments_lexer": "ipython3",
   "version": "3.10.2"
  }
 },
 "nbformat": 4,
 "nbformat_minor": 2
}
