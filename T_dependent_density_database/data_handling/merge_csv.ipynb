{
 "cells": [
  {
   "cell_type": "code",
   "execution_count": null,
   "metadata": {},
   "outputs": [],
   "source": [
    "import pandas as pd"
   ]
  },
  {
   "cell_type": "code",
   "execution_count": 2,
   "metadata": {},
   "outputs": [],
   "source": [
    "df1 = pd.read_csv('../csv_files/1_alkenes_results.csv')\n",
    "df1=df1[df1.density!= 0]\n",
    "\n",
    "df2 = pd.read_csv('../csv_files/2_3_4_alkenes_results.csv')\n",
    "df2=df2[df2.density!= 0]\n",
    "\n",
    "df3 = pd.read_csv('../csv_files/alkynes_results.csv')\n",
    "df3=df3[df3.density!= 0]\n",
    "\n",
    "df4 = pd.read_csv('../csv_files/methyl_alkanes_results.csv')\n",
    "df4=df4[df4.density!= 0]\n",
    "\n",
    "df5 = pd.read_csv('../csv_files/methyl_alkenes_results.csv')\n",
    "df5=df5[df5.density!= 0]\n",
    "\n",
    "df6 = pd.read_csv('../csv_files/n_alkanes_results.csv')\n",
    "df6=df6[df6.density!= 0]\n",
    "\n",
    "df7 = pd.read_csv('../csv_files/other_alkanes_1_results.csv')\n",
    "df7=df7[df7.density!= 0]\n",
    "\n",
    "df8 = pd.read_csv('../csv_files/other_alkanes_2_results.csv')\n",
    "df8=df8[df8.density!= 0]\n",
    "\n",
    "df9 = pd.read_csv('../csv_files/other_alkanes_3_results.csv')\n",
    "df9=df9[df9.density!= 0]\n"
   ]
  },
  {
   "cell_type": "code",
   "execution_count": 5,
   "metadata": {},
   "outputs": [],
   "source": [
    "frames = [df1, df2, df3,df4, df5, df6, df7, df8, df9]\n",
    "Dataset = pd.concat(frames)"
   ]
  },
  {
   "cell_type": "code",
   "execution_count": 6,
   "metadata": {},
   "outputs": [],
   "source": [
    "Dataset.to_csv('../csv_files/Combined_dens_Dataset.csv', index=False)"
   ]
  }
 ],
 "metadata": {
  "kernelspec": {
   "display_name": "Python 3",
   "language": "python",
   "name": "python3"
  },
  "language_info": {
   "codemirror_mode": {
    "name": "ipython",
    "version": 3
   },
   "file_extension": ".py",
   "mimetype": "text/x-python",
   "name": "python",
   "nbconvert_exporter": "python",
   "pygments_lexer": "ipython3",
   "version": "3.10.2"
  }
 },
 "nbformat": 4,
 "nbformat_minor": 2
}
