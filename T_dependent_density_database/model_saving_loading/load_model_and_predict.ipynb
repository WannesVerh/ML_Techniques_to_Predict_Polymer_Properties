{
 "cells": [
  {
   "cell_type": "code",
   "execution_count": 11,
   "metadata": {},
   "outputs": [],
   "source": [
    "import deepchem as dc\n",
    "import pandas as pd\n",
    "import numpy as np"
   ]
  },
  {
   "cell_type": "code",
   "execution_count": 23,
   "metadata": {},
   "outputs": [
    {
     "name": "stdout",
     "output_type": "stream",
     "text": [
      "loading the data...\n",
      "RDKit: (668, 5)\n",
      "With TS and TB added: (668, 7)\n",
      "Data is splitted into: train, valid, test\n"
     ]
    }
   ],
   "source": [
    "#load the dataset (polymer smiles and their specific gravity)\n",
    "\n",
    "descriptors = [\"BCUT2D_LOGPLOW\",\n",
    "\"BCUT2D_MRHI\",\n",
    "\"Ipc\",\n",
    "\"SlogP_VSA4\",\n",
    "\"SlogP_VSA6\",\n",
    "]\n",
    "\n",
    "print(\"loading the data...\")\n",
    "loader = dc.data.CSVLoader([\"density\"], feature_field=\"smiles\", featurizer=dc.feat.RDKitDescriptors(descriptors = descriptors))\n",
    "Data = loader.create_dataset('../csv_files/RoomTemp_dens_Dataset_WithState.csv')\n",
    "\n",
    "#some RDKit descriptors return nan, make these 0\n",
    "X = np.nan_to_num(Data.X, copy=True, nan=0.0, posinf=0)\n",
    "print(\"RDKit:\",X.shape)\n",
    "\n",
    "# now load the additional features\n",
    "df = pd.read_csv('../csv_files/RoomTemp_dens_Dataset_WithState.csv')\n",
    "state = df[\"state\"].to_numpy()\n",
    "Ts = df[\"temp\"].to_numpy()\n",
    "\n",
    "# combine the RDKit descriptors with the simulation temperature and the boiling temperature\n",
    "input=np.column_stack((X,Ts,state))\n",
    "print(\"With TS and TB added:\",input.shape)\n",
    "\n",
    "#add data to dataset\n",
    "Dataset = dc.data.DiskDataset.from_numpy(X=input, y=Data.y, w=Data.w, ids=Data.ids, tasks = [\"denstiy\"])\n",
    "\n",
    "#split the dataset using the random splitter\n",
    "splitter = dc.splits.RandomSplitter()\n",
    "train_dataset, valid_dataset, test_dataset = splitter.train_valid_test_split(Dataset)\n",
    "print(\"Data is splitted into: train, valid, test\")"
   ]
  },
  {
   "cell_type": "code",
   "execution_count": 24,
   "metadata": {},
   "outputs": [
    {
     "name": "stdout",
     "output_type": "stream",
     "text": [
      "model is loaded\n"
     ]
    }
   ],
   "source": [
    "# create and save the GPR model & fit the model\n",
    "from sklearn.gaussian_process import GaussianProcessRegressor\n",
    "from sklearn.gaussian_process.kernels import RBF, DotProduct, ConstantKernel, Matern, RationalQuadratic, ExpSineSquared, DotProduct, WhiteKernel\n",
    "\n",
    "kernel = 1 * RationalQuadratic() +WhiteKernel()\n",
    "model = dc.models.SklearnModel(GaussianProcessRegressor(kernel=kernel, n_restarts_optimizer=1), model_dir='./models')\n",
    "model.reload()\n",
    "print(\"model is loaded\")\n",
    "\n"
   ]
  },
  {
   "cell_type": "code",
   "execution_count": 25,
   "metadata": {},
   "outputs": [
    {
     "name": "stdout",
     "output_type": "stream",
     "text": [
      "training r2-score: 0.9707562439477916\n",
      "valid r2-score: 0.9952951897797935\n",
      "test r2-score: 0.992420972832887\n"
     ]
    }
   ],
   "source": [
    "#predict the test set\n",
    "predicted = model.predict(test_dataset)\n",
    "\n",
    "#calculate r2 scores\n",
    "metric = dc.metrics.Metric(dc.metrics.pearson_r2_score)\n",
    "train_r2score = model.evaluate(train_dataset, metric)\n",
    "valid_r2score = model.evaluate(valid_dataset, metric)\n",
    "test_r2score= model.evaluate(test_dataset, metric)\n",
    "\n",
    "#make then useable\n",
    "testr2=list(test_r2score.values())[0]\n",
    "validr2=list(valid_r2score.values())[0]\n",
    "trainr2=list(train_r2score.values())[0]\n",
    "\n",
    "print(\"training r2-score:\",np.mean(trainr2) )\n",
    "print(\"valid r2-score:\",np.mean(validr2) )\n",
    "print(\"test r2-score:\",np.mean(testr2) )"
   ]
  }
 ],
 "metadata": {
  "kernelspec": {
   "display_name": "Python 3",
   "language": "python",
   "name": "python3"
  },
  "language_info": {
   "codemirror_mode": {
    "name": "ipython",
    "version": 3
   },
   "file_extension": ".py",
   "mimetype": "text/x-python",
   "name": "python",
   "nbconvert_exporter": "python",
   "pygments_lexer": "ipython3",
   "version": "3.10.2"
  }
 },
 "nbformat": 4,
 "nbformat_minor": 2
}
