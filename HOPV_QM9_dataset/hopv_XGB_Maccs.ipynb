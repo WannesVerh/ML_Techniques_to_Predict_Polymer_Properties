{
 "cells": [
  {
   "cell_type": "code",
   "execution_count": 1,
   "metadata": {},
   "outputs": [
    {
     "name": "stdout",
     "output_type": "stream",
     "text": [
      "importing...\n",
      "Error: Unable to import pysam. Please make sure it is installed.\n",
      "Error: Unable to import pysam. Please make sure it is installed.\n",
      "Error: Unable to import pysam. Please make sure it is installed.\n",
      "WARNING:tensorflow:From c:\\Users\\wanne\\AppData\\Local\\Programs\\Python\\Python310\\lib\\site-packages\\keras\\src\\losses.py:2976: The name tf.losses.sparse_softmax_cross_entropy is deprecated. Please use tf.compat.v1.losses.sparse_softmax_cross_entropy instead.\n",
      "\n",
      "WARNING:tensorflow:From c:\\Users\\wanne\\AppData\\Local\\Programs\\Python\\Python310\\lib\\site-packages\\tensorflow\\python\\util\\deprecation.py:588: calling function (from tensorflow.python.eager.polymorphic_function.polymorphic_function) with experimental_relax_shapes is deprecated and will be removed in a future version.\n",
      "Instructions for updating:\n",
      "experimental_relax_shapes is deprecated, use reduce_retracing instead\n"
     ]
    }
   ],
   "source": [
    "#import the most used things\n",
    "print(\"importing...\")\n",
    "import xgboost as xgb\n",
    "from contextlib import contextmanager\n",
    "import sys, os\n",
    "\n",
    "@contextmanager\n",
    "def suppress_stderr():\n",
    "    with open(os.devnull, \"w\") as devnull:\n",
    "        old_stderr = sys.stderr\n",
    "        sys.stderr = devnull\n",
    "        try:  \n",
    "            yield\n",
    "        finally:\n",
    "            sys.stderr = old_stderr\n",
    "\n",
    "with suppress_stderr():\n",
    "    import deepchem as dc\n",
    "    import pandas as pd\n",
    "    import numpy as np"
   ]
  },
  {
   "cell_type": "code",
   "execution_count": 2,
   "metadata": {},
   "outputs": [
    {
     "name": "stdout",
     "output_type": "stream",
     "text": [
      "colecting data...\n"
     ]
    }
   ],
   "source": [
    "print(\"colecting data...\")\n",
    "tasks, data, transformers = dc.molnet.load_hopv(featurizer=dc.feat.MACCSKeysFingerprint(), splitter = None)"
   ]
  },
  {
   "cell_type": "code",
   "execution_count": 3,
   "metadata": {},
   "outputs": [
    {
     "name": "stdout",
     "output_type": "stream",
     "text": [
      "['HOMO']\n"
     ]
    }
   ],
   "source": [
    "#convert the dataset so that no more nan is present and selct the y-values of the homo gap toghether with the according wheigths\n",
    "dataset = data[0]\n",
    "#converting the train set\n",
    "X = np.nan_to_num(dataset.X, copy=True, nan=0.0)\n",
    "Y = dataset.y[:,[0]]\n",
    "w = dataset.w[:,[0]]\n",
    "ids = dataset.ids\n",
    "Task = dataset.tasks[0]\n",
    "\n",
    "\n",
    "#find al the positive values and delete them\n",
    "to_del = []\n",
    "for idx, value in enumerate(Y):\n",
    "    \n",
    "    if value[0] > 0:\n",
    "        to_del.append(idx)\n",
    "\n",
    "\n",
    "X = np.delete(X,to_del,0)\n",
    "Y = np.delete(Y,to_del).reshape(-1, 1)\n",
    "w = np.delete(w,to_del).reshape(-1, 1)\n",
    "ids = np.delete(ids,to_del)\n",
    "#add the cenverted data to new dataframe\n",
    "new_data= dc.data.DiskDataset.from_numpy(X=X, y=Y, w=w, ids=data[0].ids, tasks = [Task])\n",
    "print(new_data.tasks)"
   ]
  },
  {
   "cell_type": "code",
   "execution_count": 4,
   "metadata": {},
   "outputs": [],
   "source": [
    "#split the data in train and test samples\n",
    "splitter = dc.splits.SingletaskStratifiedSplitter()\n",
    "train_dataset, test_dataset = splitter.train_test_split(new_data, frac_train=0.8)"
   ]
  },
  {
   "cell_type": "code",
   "execution_count": 5,
   "metadata": {},
   "outputs": [
    {
     "name": "stdout",
     "output_type": "stream",
     "text": [
      "fitting model...\n",
      "model is fitted!\n"
     ]
    }
   ],
   "source": [
    "# create the GPR model & fit the model\n",
    "\n",
    "model = xgb.XGBRegressor()\n",
    "\n",
    "print(\"fitting model...\")\n",
    "model.fit(train_dataset.X,train_dataset.y)\n",
    "print(\"model is fitted!\")\n"
   ]
  },
  {
   "cell_type": "code",
   "execution_count": 6,
   "metadata": {},
   "outputs": [],
   "source": [
    "#predict the test set\n",
    "predictedTrain = model.predict(train_dataset.X)\n",
    "predictedtest = model.predict(test_dataset.X)\n",
    "y_train = np.concatenate(train_dataset.y)\n",
    "y_test = np.concatenate(test_dataset.y)\n"
   ]
  },
  {
   "cell_type": "code",
   "execution_count": 7,
   "metadata": {},
   "outputs": [
    {
     "name": "stdout",
     "output_type": "stream",
     "text": [
      "0.833749668350523\n",
      "0.1755722061742171\n"
     ]
    }
   ],
   "source": [
    "#calculate r2 score\n",
    "Train_score = dc.metrics.pearson_r2_score(y_train,predictedTrain)\n",
    "print(Train_score)\n",
    "Test_score = dc.metrics.pearson_r2_score(y_test,predictedtest)\n",
    "print(Test_score)"
   ]
  },
  {
   "cell_type": "code",
   "execution_count": 8,
   "metadata": {},
   "outputs": [
    {
     "ename": "NameError",
     "evalue": "name 'predicted' is not defined",
     "output_type": "error",
     "traceback": [
      "\u001b[1;31m---------------------------------------------------------------------------\u001b[0m",
      "\u001b[1;31mNameError\u001b[0m                                 Traceback (most recent call last)",
      "Cell \u001b[1;32mIn[8], line 11\u001b[0m\n\u001b[0;32m      9\u001b[0m y\u001b[38;5;241m=\u001b[39m[\u001b[38;5;241m-\u001b[39m\u001b[38;5;241m1.2\u001b[39m,\u001b[38;5;241m0\u001b[39m]\n\u001b[0;32m     10\u001b[0m plt\u001b[38;5;241m.\u001b[39mplot(x, y, linestyle\u001b[38;5;241m=\u001b[39m\u001b[38;5;124m\"\u001b[39m\u001b[38;5;124mdashed\u001b[39m\u001b[38;5;124m\"\u001b[39m)\n\u001b[1;32m---> 11\u001b[0m plt\u001b[38;5;241m.\u001b[39mscatter(test_dataset\u001b[38;5;241m.\u001b[39my, \u001b[43mpredicted\u001b[49m, label\u001b[38;5;241m=\u001b[39m\u001b[38;5;124m\"\u001b[39m\u001b[38;5;124mObservations\u001b[39m\u001b[38;5;124m\"\u001b[39m)\n\u001b[0;32m     12\u001b[0m plt\u001b[38;5;241m.\u001b[39mlegend()\n\u001b[0;32m     13\u001b[0m plt\u001b[38;5;241m.\u001b[39mxlabel(\u001b[38;5;124m\"\u001b[39m\u001b[38;5;124mexperimental HOMO energy (a.u.)\u001b[39m\u001b[38;5;124m\"\u001b[39m)\n",
      "\u001b[1;31mNameError\u001b[0m: name 'predicted' is not defined"
     ]
    },
    {
     "data": {
      "image/png": "[encoded data removed]",
      "text/plain": [
       "<Figure size 640x480 with 1 Axes>"
      ]
     },
     "metadata": {},
     "output_type": "display_data"
    }
   ],
   "source": [
    "#convert tekst to string, so it can be depicted in matplotlib\n",
    "text = \"r2= \"+ str(round(Test_score,3))\n",
    "\n",
    "\n",
    "#plot the data\n",
    "import matplotlib.pyplot as plt\n",
    "\n",
    "x=[-1.2,0]\n",
    "y=[-1.2,0]\n",
    "plt.plot(x, y, linestyle=\"dashed\")\n",
    "plt.scatter(test_dataset.y, predictedtest, label=\"Observations\")\n",
    "plt.legend()\n",
    "plt.xlabel(\"experimental HOMO energy (a.u.)\")\n",
    "plt.ylabel(\"ML predicted HOMO energy (a.u.)\")\n",
    "plt.title(\"hopv dataset_XGB_Maccs\")\n",
    "plt.text(-1.2,-0.2,text)\n",
    "plt.show()"
   ]
  }
 ],
 "metadata": {
  "kernelspec": {
   "display_name": "Python 3",
   "language": "python",
   "name": "python3"
  },
  "language_info": {
   "codemirror_mode": {
    "name": "ipython",
    "version": 3
   },
   "file_extension": ".py",
   "mimetype": "text/x-python",
   "name": "python",
   "nbconvert_exporter": "python",
   "pygments_lexer": "ipython3",
   "version": "3.10.2"
  }
 },
 "nbformat": 4,
 "nbformat_minor": 2
}
