{
 "cells": [
  {
   "cell_type": "code",
   "execution_count": 3,
   "metadata": {},
   "outputs": [],
   "source": [
    "\"\"\"\n",
    "Script that trains sklearn models on HOPV dataset.\n",
    "\"\"\"\n",
    "from __future__ import print_function\n",
    "from __future__ import division\n",
    "from __future__ import unicode_literals\n",
    "\n",
    "from contextlib import contextmanager\n",
    "import sys, os\n",
    "\n",
    "@contextmanager\n",
    "def suppress_stderr():\n",
    "    with open(os.devnull, \"w\") as devnull:\n",
    "        old_stderr = sys.stderr\n",
    "        sys.stderr = devnull\n",
    "        try:  \n",
    "            yield\n",
    "        finally:\n",
    "            sys.stderr = old_stderr\n",
    "\n",
    "with suppress_stderr():            \n",
    "    import numpy as np\n",
    "    import deepchem as dc\n",
    "    import pandas as pd\n",
    "    from deepchem.molnet import load_hopv\n",
    "    from sklearn.ensemble import RandomForestRegressor"
   ]
  },
  {
   "cell_type": "code",
   "execution_count": 4,
   "metadata": {},
   "outputs": [],
   "source": [
    "# Load HOPV dataset\n",
    "hopv_tasks, hopv_datasets, transformers = dc.molnet.load_hopv(featurizer = 'ECFP', splitter = None)\n",
    "splitter = dc.splits.ScaffoldSplitter()\n",
    "train_dataset, valid_dataset, test_dataset = splitter.train_valid_test_split(hopv_datasets[0])"
   ]
  },
  {
   "cell_type": "code",
   "execution_count": 5,
   "metadata": {},
   "outputs": [],
   "source": [
    "def model_builder(model_dir):\n",
    "  sklearn_model = RandomForestRegressor(n_estimators=500)\n",
    "  return dc.models.SklearnModel(sklearn_model, model_dir)\n",
    "\n",
    "\n",
    "model = dc.models.SingletaskToMultitask(hopv_tasks, model_builder)"
   ]
  },
  {
   "cell_type": "code",
   "execution_count": 6,
   "metadata": {},
   "outputs": [
    {
     "name": "stdout",
     "output_type": "stream",
     "text": [
      "About to fit model\n"
     ]
    }
   ],
   "source": [
    "# Fit trained model\n",
    "print(\"About to fit model\")\n",
    "model.fit(train_dataset)\n",
    "model.save()\n",
    "predicted = model.predict(valid_dataset)\n"
   ]
  },
  {
   "cell_type": "code",
   "execution_count": null,
   "metadata": {},
   "outputs": [
    {
     "name": "stdout",
     "output_type": "stream",
     "text": [
      "training score: {'pearson_r2_score': 0.40445718254258284}\n",
      "valid score: {'pearson_r2_score': 0.2238404376377698}\n",
      "pearson r2 valid score for: HOMO is 0.015196617078727126\n",
      "pearson r2 valid score for: LUMO is 0.03757244597222908\n",
      "pearson r2 valid score for: electrochemical_gap is 0.0022112574045139934\n",
      "pearson r2 valid score for: optical_gap is 0.0035849562834221064\n",
      "pearson r2 valid score for: PCE is 0.5906037603201933\n",
      "pearson r2 valid score for: V_OC is 0.2107968830893046\n",
      "pearson r2 valid score for: J_SC is 0.5045504078503797\n",
      "pearson r2 valid score for: fill_factor is 0.42620717310338896\n"
     ]
    }
   ],
   "source": [
    "#the avarage score is:\n",
    "metric = dc.metrics.Metric(dc.metrics.pearson_r2_score, mode=\"regression\")\n",
    "print(\"training score:\",model.evaluate(train_dataset, metric, transformers))\n",
    "print(\"valid score:\",model.evaluate(valid_dataset, metric, transformers))\n",
    "\n",
    "for i in range(0,8):\n",
    "    x = np.concatenate( valid_dataset.y[:,[i]], axis=0 )\n",
    "    y = np.concatenate( predicted[:,[i]], axis=0 )\n",
    "    print(\"pearson r2 valid score for:\",valid_dataset.tasks[i],\"is\",dc.metrics.pearson_r2_score(x,y))"
   ]
  }
 ],
 "metadata": {
  "kernelspec": {
   "display_name": "Python 3",
   "language": "python",
   "name": "python3"
  },
  "language_info": {
   "codemirror_mode": {
    "name": "ipython",
    "version": 3
   },
   "file_extension": ".py",
   "mimetype": "text/x-python",
   "name": "python",
   "nbconvert_exporter": "python",
   "pygments_lexer": "ipython3",
   "version": "3.10.2"
  }
 },
 "nbformat": 4,
 "nbformat_minor": 2
}
