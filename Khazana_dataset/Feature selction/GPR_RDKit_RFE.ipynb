{
 "cells": [
  {
   "cell_type": "markdown",
   "metadata": {},
   "source": [
    "Train a GPR model with \"RDkit featurization\" and check performance by r2_score, MSE, MAE"
   ]
  },
  {
   "cell_type": "code",
   "execution_count": null,
   "metadata": {},
   "outputs": [],
   "source": [
    "# Train a GPR model with RDkit featurization\n",
    "import deepchem as dc\n",
    "import pandas as pd\n",
    "import numpy as np\n",
    "import rdkit\n",
    "import sklearn"
   ]
  },
  {
   "cell_type": "code",
   "execution_count": 3,
   "metadata": {},
   "outputs": [
    {
     "name": "stdout",
     "output_type": "stream",
     "text": [
      "loading the data...\n"
     ]
    }
   ],
   "source": [
    "#load the dataset (polymer smiles and their energy of atomization)\n",
    "\n",
    "print(\"loading the data...\")\n",
    "loader = dc.data.CSVLoader([\"Eat\"], feature_field=\"smiles\", featurizer=dc.feat.RDKitDescriptors())\n",
    "Data = loader.create_dataset('../csv_files/Polymers_Eat.csv')"
   ]
  },
  {
   "cell_type": "code",
   "execution_count": 9,
   "metadata": {},
   "outputs": [
    {
     "data": {
      "text/plain": [
       "array([ 1.37878349,  0.        ,  0.        ,  0.        ,  0.        ,\n",
       "        0.        ,  0.        ,  0.        ,  0.        ,  2.53953886,\n",
       "       18.85475297,  4.28445705,  2.28445705,  2.28445705,  2.27005561,\n",
       "        0.98559856,  0.98559856,  0.40824829,  0.40824829,  0.        ,\n",
       "        0.        ,  0.        ,  0.        ,  0.        ,  0.        ,\n",
       "        0.        ,  0.        ,  0.        ,  0.        ,  6.42082162,\n",
       "        6.9237372 ,  0.        ,  6.9237372 ,  0.        , 42.04695019,\n",
       "        3.        ,  3.33333333,  3.33333333,  1.        ,  0.        ,\n",
       "        3.        , 36.033     ,  1.37878349,  0.75      ,  0.125     ,\n",
       "        0.        , 21.46913526,  2.39583333,  0.        ,  2.39583333,\n",
       "        0.        ,  0.75      ,  0.        ,  0.75      ,  0.        ,\n",
       "        1.3117    , 14.231     , 42.081     ,  0.        ,  0.        ,\n",
       "        0.        ,  0.        ,  0.        ,  0.        ,  0.        ,\n",
       "        0.        ,  0.        ,  0.        ,  2.        ,  0.        ,\n",
       "        1.        ,  0.        ,  0.        ,  0.        , 18.        ,\n",
       "        0.        ,  0.        ,  0.        ,  0.        ,  0.        ,\n",
       "       20.26829602,  0.        ,  0.        ,  0.        ,  0.        ,\n",
       "        0.        ,  0.        ,  0.        ,  0.        ,  0.        ,\n",
       "        0.        ,  0.        ,  0.        ,  0.        ,  0.        ,\n",
       "       20.26829602,  0.        ,  0.        ,  0.        ,  0.        ,\n",
       "       25.66666667,  0.        ,  0.        ,  0.        ,  0.        ,\n",
       "        0.        ,  0.        ,  0.        ,  6.9237372 ,  0.        ,\n",
       "       13.34455882,  0.        ,  0.        ,  0.        ,  1.52546296,\n",
       "        0.        ,  0.        ,  0.        ,  0.        ,  0.        ,\n",
       "        0.        ,  1.24537037,  4.0625    ,  0.        ,  0.        ,\n",
       "        0.        ,  0.        ,  0.        ,  0.        ,  0.        ,\n",
       "        0.        ,  0.        ,  0.        ,  0.        ,  0.        ,\n",
       "        0.        ,  0.        ,  0.        ,  0.        ,  0.        ,\n",
       "        0.        ,  0.        ,  0.        ,  0.        ,  0.        ,\n",
       "        0.        ,  0.        ,  0.        ,  0.        ,  0.        ,\n",
       "        0.        ,  0.        ,  0.        ,  0.        ,  0.        ,\n",
       "        0.        ,  0.        ,  0.        ,  0.        ,  0.        ,\n",
       "        0.        ,  0.        ,  0.        ,  0.        ,  0.        ,\n",
       "        0.        ,  0.        ,  0.        ,  0.        ,  0.        ,\n",
       "        0.        ,  0.        ,  0.        ,  0.        ,  0.        ,\n",
       "        0.        ,  0.        ,  0.        ,  0.        ,  0.        ,\n",
       "        0.        ,  0.        ,  0.        ,  0.        ,  0.        ,\n",
       "        0.        ,  0.        ,  0.        ,  0.        ,  0.        ,\n",
       "        0.        ,  0.        ,  0.        ,  0.        ,  0.        ,\n",
       "        0.        ,  0.        ,  0.        ,  0.        ,  0.        ,\n",
       "        0.        ,  0.        ,  0.        ,  0.        ,  0.        ,\n",
       "        0.        ,  0.        ,  0.        ,  0.        ,  0.41472017])"
      ]
     },
     "execution_count": 9,
     "metadata": {},
     "output_type": "execute_result"
    }
   ],
   "source": [
    "#some RDKit descriptors return nan, make these 0\n",
    "X = np.nan_to_num(Data.X, copy=True, nan=0)\n",
    "\n",
    "#add data to dataset\n",
    "Dataset = dc.data.DiskDataset.from_numpy(X=X, y=Data.y, w=Data.w, ids=Data.ids, tasks = [\"Eat\"])"
   ]
  },
  {
   "cell_type": "code",
   "execution_count": 135,
   "metadata": {},
   "outputs": [],
   "source": [
    "#now run RFE to select the most important features \n",
    "from sklearn.feature_selection import RFE\n",
    "from sklearn.gaussian_process import GaussianProcessRegressor\n",
    "from sklearn.gaussian_process.kernels import RBF\n",
    "from sklearn.tree import DecisionTreeRegressor\n",
    "\n",
    "selector = RFE(estimator=DecisionTreeRegressor(), n_features_to_select=50, step = 20)\n",
    "SelectedData = selector.fit_transform(Dataset.X, Dataset.y.ravel()) #y is a colum vector but it needs a 1d array -> ravel fixes this\n",
    "selected = selector.support_ #this returns an array with true and false True are the selected features\n",
    "ranks = selector.ranking_"
   ]
  },
  {
   "cell_type": "code",
   "execution_count": 136,
   "metadata": {},
   "outputs": [],
   "source": [
    "#make a dataset with the new features\n",
    "RFEDataset = dc.data.DiskDataset.from_numpy(X=SelectedData, y=Data.y, w=Data.w, ids=Data.ids, tasks = [\"Eat\"])"
   ]
  },
  {
   "cell_type": "code",
   "execution_count": 137,
   "metadata": {},
   "outputs": [
    {
     "name": "stdout",
     "output_type": "stream",
     "text": [
      "NumValenceElectrons is selected with rank: 1\n",
      "NumRadicalElectrons is selected with rank: 1\n",
      "MaxAbsPartialCharge is selected with rank: 1\n",
      "FpDensityMorgan1 is selected with rank: 1\n",
      "FpDensityMorgan2 is selected with rank: 1\n",
      "FpDensityMorgan3 is selected with rank: 1\n",
      "BCUT2D_MWHI is selected with rank: 1\n",
      "BCUT2D_CHGHI is selected with rank: 1\n",
      "BCUT2D_CHGLO is selected with rank: 1\n",
      "BCUT2D_LOGPHI is selected with rank: 1\n",
      "AvgIpc is selected with rank: 1\n",
      "BalabanJ is selected with rank: 1\n",
      "BertzCT is selected with rank: 1\n",
      "Chi0n is selected with rank: 1\n",
      "Chi1n is selected with rank: 1\n",
      "Chi1v is selected with rank: 1\n",
      "Chi3n is selected with rank: 1\n",
      "Chi3v is selected with rank: 1\n",
      "Chi4n is selected with rank: 1\n",
      "HallKierAlpha is selected with rank: 1\n",
      "Ipc is selected with rank: 1\n",
      "Kappa1 is selected with rank: 1\n",
      "Kappa3 is selected with rank: 1\n",
      "PEOE_VSA1 is selected with rank: 1\n",
      "PEOE_VSA11 is selected with rank: 1\n",
      "PEOE_VSA13 is selected with rank: 1\n",
      "PEOE_VSA2 is selected with rank: 1\n",
      "PEOE_VSA4 is selected with rank: 1\n",
      "PEOE_VSA6 is selected with rank: 1\n",
      "SMR_VSA7 is selected with rank: 1\n",
      "SMR_VSA9 is selected with rank: 1\n",
      "EState_VSA5 is selected with rank: 1\n",
      "EState_VSA6 is selected with rank: 1\n",
      "VSA_EState1 is selected with rank: 1\n",
      "VSA_EState5 is selected with rank: 1\n",
      "VSA_EState6 is selected with rank: 1\n",
      "VSA_EState7 is selected with rank: 1\n",
      "NumAliphaticRings is selected with rank: 1\n",
      "NumAromaticHeterocycles is selected with rank: 1\n",
      "NumAromaticRings is selected with rank: 1\n",
      "NumHAcceptors is selected with rank: 1\n",
      "NumHDonors is selected with rank: 1\n",
      "NumHeteroatoms is selected with rank: 1\n",
      "NumRotatableBonds is selected with rank: 1\n",
      "NumSaturatedCarbocycles is selected with rank: 1\n",
      "NumSaturatedHeterocycles is selected with rank: 1\n",
      "fr_COO2 is selected with rank: 1\n",
      "fr_NH0 is selected with rank: 1\n",
      "fr_NH2 is selected with rank: 1\n",
      "fr_urea is selected with rank: 1\n"
     ]
    }
   ],
   "source": [
    "#find which descriptors are the most important\n",
    "from rdkit.Chem import Descriptors\n",
    "descriptors = Descriptors._descList\n",
    "\n",
    "def Get_Selected_features(selected, ranks):\n",
    "    from rdkit.Chem import Descriptors\n",
    "    descriptors = Descriptors._descList\n",
    "\n",
    "    for idx, bool in enumerate(selected):\n",
    "        if bool == True:\n",
    "            print(descriptors[idx][0],\"is selected with rank:\", ranks[idx])\n",
    "\n",
    "Get_Selected_features(selected,ranks)"
   ]
  },
  {
   "cell_type": "code",
   "execution_count": 138,
   "metadata": {},
   "outputs": [
    {
     "name": "stdout",
     "output_type": "stream",
     "text": [
      "Data is splitted into: train and test\n"
     ]
    }
   ],
   "source": [
    "#split the dataset using the random splitter\n",
    "splitter = dc.splits.RandomSplitter()\n",
    "train_dataset, test_dataset = splitter.train_test_split(RFEDataset)\n",
    "print(\"Data is splitted into: train and test\")"
   ]
  },
  {
   "cell_type": "code",
   "execution_count": 139,
   "metadata": {},
   "outputs": [
    {
     "name": "stdout",
     "output_type": "stream",
     "text": [
      "fitting model...\n"
     ]
    },
    {
     "name": "stderr",
     "output_type": "stream",
     "text": [
      "c:\\Users\\wanne\\AppData\\Local\\Programs\\Python\\Python310\\lib\\site-packages\\sklearn\\gaussian_process\\_gpr.py:663: ConvergenceWarning: lbfgs failed to converge (status=2):\n",
      "ABNORMAL_TERMINATION_IN_LNSRCH.\n",
      "\n",
      "Increase the number of iterations (max_iter) or scale the data as shown in:\n",
      "    https://scikit-learn.org/stable/modules/preprocessing.html\n",
      "  _check_optimize_result(\"lbfgs\", opt_res)\n"
     ]
    },
    {
     "name": "stdout",
     "output_type": "stream",
     "text": [
      "model is fitted\n"
     ]
    }
   ],
   "source": [
    "# create the GPR model & fit the model\n",
    "from sklearn.gaussian_process import GaussianProcessRegressor\n",
    "from sklearn.gaussian_process.kernels import RationalQuadratic\n",
    "\n",
    "kernel = 1 * RationalQuadratic()\n",
    "model = dc.models.SklearnModel(GaussianProcessRegressor( kernel = kernel, n_restarts_optimizer=20))\n",
    "\n",
    "print(\"fitting model...\")\n",
    "model.fit(train_dataset)\n",
    "print(\"model is fitted\")\n"
   ]
  },
  {
   "cell_type": "code",
   "execution_count": 140,
   "metadata": {},
   "outputs": [
    {
     "name": "stdout",
     "output_type": "stream",
     "text": [
      "Training set score: {'pearson_r2_score': 0.9999999999999953}\n",
      "Test set score: {'pearson_r2_score': 0.9716305586549537}\n"
     ]
    }
   ],
   "source": [
    "#calculate r2 score\n",
    "metric = dc.metrics.Metric(dc.metrics.pearson_r2_score)\n",
    "print('Training set score:', model.evaluate(train_dataset, metric))\n",
    "test_score= model.evaluate(test_dataset, metric)\n",
    "print('Test set score:',test_score )"
   ]
  },
  {
   "cell_type": "code",
   "execution_count": 141,
   "metadata": {},
   "outputs": [
    {
     "name": "stdout",
     "output_type": "stream",
     "text": [
      "Training set score: {'mean_squared_error': 5.314034107061791e-16}\n",
      "Test set score: {'mean_squared_error': 0.0036389925010167946}\n"
     ]
    }
   ],
   "source": [
    "#calculate MSE score\n",
    "metric = dc.metrics.Metric(dc.metrics.mean_squared_error)\n",
    "print('Training set score:', model.evaluate(train_dataset, metric))\n",
    "print('Test set score:', model.evaluate(test_dataset, metric))"
   ]
  },
  {
   "cell_type": "code",
   "execution_count": 142,
   "metadata": {},
   "outputs": [
    {
     "name": "stdout",
     "output_type": "stream",
     "text": [
      "Training set score: {'mean_absolute_error': 3.925418770660663e-09}\n",
      "Test set score: {'mean_absolute_error': 0.038309395623496736}\n"
     ]
    }
   ],
   "source": [
    "#calculate MAE score\n",
    "metric = dc.metrics.Metric(dc.metrics.mean_absolute_error)\n",
    "print('Training set score:', model.evaluate(train_dataset, metric))\n",
    "print('Test set score:', model.evaluate(test_dataset, metric))"
   ]
  },
  {
   "cell_type": "code",
   "execution_count": 145,
   "metadata": {},
   "outputs": [
    {
     "data": {
      "image/png": "[encoded data removed]",
      "text/plain": [
       "<Figure size 640x480 with 1 Axes>"
      ]
     },
     "metadata": {},
     "output_type": "display_data"
    }
   ],
   "source": [
    "#plot the data\n",
    "import matplotlib.pyplot as plt\n",
    "from sklearn.metrics import r2_score\n",
    "\n",
    "#predict the r2_score and convert to string\n",
    "predicted = model.predict(test_dataset)\n",
    "score =r2_score(test_dataset.y, predicted)\n",
    "text = \"r2= \"+ str(round(score,3))\n",
    "\n",
    "x=[-10,0]\n",
    "y=[-10,0]\n",
    "#text = \"R2= \"+ str(round(test_score))\n",
    "plt.plot(x, y, linestyle=\"dashed\")\n",
    "plt.scatter(test_dataset.y, predicted, label=text)\n",
    "plt.legend()\n",
    "plt.xlabel(\"experimental atomization energy \\n (eV/atom)\")\n",
    "plt.ylabel(\"ML predicted atomization energy \\n (eV/atom)\")\n",
    "plt.title(\"GPR with RDkit descriptors_adapted dataset\")\n",
    "plt.show()\n"
   ]
  }
 ],
 "metadata": {
  "kernelspec": {
   "display_name": "Python 3",
   "language": "python",
   "name": "python3"
  },
  "language_info": {
   "codemirror_mode": {
    "name": "ipython",
    "version": 3
   },
   "file_extension": ".py",
   "mimetype": "text/x-python",
   "name": "python",
   "nbconvert_exporter": "python",
   "pygments_lexer": "ipython3",
   "version": "3.10.2"
  }
 },
 "nbformat": 4,
 "nbformat_minor": 2
}
