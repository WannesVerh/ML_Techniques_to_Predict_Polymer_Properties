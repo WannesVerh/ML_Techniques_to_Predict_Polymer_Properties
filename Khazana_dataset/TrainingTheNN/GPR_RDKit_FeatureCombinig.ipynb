{
 "cells": [
  {
   "cell_type": "markdown",
   "metadata": {},
   "source": [
    "Train a GPR model with \"RDkit featurization\" and check performance by r2_score, MSE, MAE"
   ]
  },
  {
   "cell_type": "code",
   "execution_count": 84,
   "metadata": {},
   "outputs": [],
   "source": [
    "# Train a GPR model with RDkit featurization\n",
    "import deepchem as dc\n",
    "import pandas as pd\n",
    "import numpy as np\n",
    "#import rdkit\n",
    "#import sklearn"
   ]
  },
  {
   "cell_type": "code",
   "execution_count": 85,
   "metadata": {},
   "outputs": [
    {
     "name": "stdout",
     "output_type": "stream",
     "text": [
      "loading the data...\n"
     ]
    }
   ],
   "source": [
    "#load the dataset (polymer smiles and their energy of atomization)\n",
    "\n",
    "print(\"loading the data...\")\n",
    "loader1 = dc.data.CSVLoader([\"Eat\"], feature_field=\"smiles\", featurizer=dc.feat.RDKitDescriptors())\n",
    "Data1 = loader1.create_dataset('../csv_files/Polymers_Eat.csv')\n",
    "loader2 = dc.data.CSVLoader([\"Eat\"], feature_field=\"smiles\", featurizer=dc.feat.CircularFingerprint(size=1024))\n",
    "Data2 = loader2.create_dataset('../csv_files/Polymers_Eat.csv')"
   ]
  },
  {
   "cell_type": "code",
   "execution_count": 86,
   "metadata": {},
   "outputs": [
    {
     "data": {
      "text/html": [
       "<div>\n",
       "<style scoped>\n",
       "    .dataframe tbody tr th:only-of-type {\n",
       "        vertical-align: middle;\n",
       "    }\n",
       "\n",
       "    .dataframe tbody tr th {\n",
       "        vertical-align: top;\n",
       "    }\n",
       "\n",
       "    .dataframe thead th {\n",
       "        text-align: right;\n",
       "    }\n",
       "</style>\n",
       "<table border=\"1\" class=\"dataframe\">\n",
       "  <thead>\n",
       "    <tr style=\"text-align: right;\">\n",
       "      <th></th>\n",
       "      <th>0</th>\n",
       "      <th>1</th>\n",
       "    </tr>\n",
       "  </thead>\n",
       "  <tbody>\n",
       "    <tr>\n",
       "      <th>0</th>\n",
       "      <td>1</td>\n",
       "      <td>2</td>\n",
       "    </tr>\n",
       "    <tr>\n",
       "      <th>1</th>\n",
       "      <td>2</td>\n",
       "      <td>3</td>\n",
       "    </tr>\n",
       "    <tr>\n",
       "      <th>2</th>\n",
       "      <td>3</td>\n",
       "      <td>4</td>\n",
       "    </tr>\n",
       "  </tbody>\n",
       "</table>\n",
       "</div>"
      ],
      "text/plain": [
       "   0  1\n",
       "0  1  2\n",
       "1  2  3\n",
       "2  3  4"
      ]
     },
     "execution_count": 86,
     "metadata": {},
     "output_type": "execute_result"
    }
   ],
   "source": [
    "a = np.array((1,2,3),(3,4,5))\n",
    "b = np.array((2,3,4))\n",
    "c=np.column_stack((a,b))\n",
    "pd.DataFrame(a)\n",
    "pd.DataFrame(c)"
   ]
  },
  {
   "cell_type": "code",
   "execution_count": 87,
   "metadata": {},
   "outputs": [
    {
     "name": "stdout",
     "output_type": "stream",
     "text": [
      "RDKit: (390, 210)\n",
      "Morgan: (390, 1024)\n",
      "Combined: (390, 1234)\n"
     ]
    }
   ],
   "source": [
    "#some RDKit descriptors return nan, make these 0\n",
    "\n",
    "X1 = np.nan_to_num(Data1.X, copy=True, nan=0.0)\n",
    "print(\"RDKit:\",X1.shape)\n",
    "X2 = np.nan_to_num(Data2.X, copy=True, nan=0.0)\n",
    "print(\"Morgan:\",X2.shape)\n",
    "X_data=np.column_stack((X1,X2))\n",
    "print(\"Combined:\",X_data.shape)\n",
    "\n",
    "#add data to dataset\n",
    "Dataset = dc.data.DiskDataset.from_numpy(X=X_data, y=Data1.y, w=Data1.w, ids=Data1.ids, tasks = [\"Eat\"])"
   ]
  },
  {
   "cell_type": "code",
   "execution_count": 88,
   "metadata": {},
   "outputs": [
    {
     "name": "stdout",
     "output_type": "stream",
     "text": [
      "Data is splitted into: train, valid, test\n"
     ]
    }
   ],
   "source": [
    "#split the dataset using the random splitter\n",
    "splitter = dc.splits.RandomSplitter()\n",
    "train_dataset, test_dataset = splitter.train_test_split(Dataset)\n",
    "print(\"Data is splitted into: train, valid, test\")"
   ]
  },
  {
   "cell_type": "code",
   "execution_count": 101,
   "metadata": {},
   "outputs": [
    {
     "data": {
      "text/plain": [
       "<DiskDataset X.shape: (390, 70), y.shape: (390, 1), w.shape: (390, 1), ids: ['[*]CC([*])C' '[*]CC([*])F' '[*]CC([*])(F)F' ...\n",
       " '[*]C(F)(F)C(=O)C(F)(F)C(C=C1)=CC=C1[*]' '[*]C(F)(F)OC(F)(F)O[*]'\n",
       " '[*]N(C(=O)C1=C2)C(=O)C1=CC=C2C(=O)C(=CC=C3C4(=O))C=C3C(=O)N4C(C)COCCOCCOC(C)COCC(C)[*]'], task_names: ['Eat']>"
      ]
     },
     "execution_count": 101,
     "metadata": {},
     "output_type": "execute_result"
    }
   ],
   "source": [
    "#use RFE and make new dataset with selected features\n",
    "#now run RFE to select the most important features \n",
    "from sklearn.feature_selection import RFE\n",
    "from sklearn.gaussian_process import GaussianProcessRegressor\n",
    "from sklearn.gaussian_process.kernels import RBF\n",
    "from sklearn.tree import DecisionTreeRegressor\n",
    "\n",
    "selector = RFE(estimator=DecisionTreeRegressor(), n_features_to_select=70, step = 100)\n",
    "Selectedfeats = selector.fit_transform(Dataset.X, Dataset.y.ravel()) #y is a colum vector but it needs a 1d array -> ravel fixes this\n",
    "selected = selector.support_ #this returns an array with true and false True are the selected features\n",
    "RFEDataset = dc.data.DiskDataset.from_numpy(X=Selectedfeats, y=Data1.y, w=Data1.w, ids=Data1.ids, tasks = [\"Eat\"])\n",
    "\n",
    "#split the dataset using the random splitter\n",
    "splitter = dc.splits.RandomSplitter()\n",
    "train_dataset, test_dataset = splitter.train_test_split(RFEDataset)\n",
    "RFEDataset"
   ]
  },
  {
   "cell_type": "code",
   "execution_count": 96,
   "metadata": {},
   "outputs": [
    {
     "name": "stdout",
     "output_type": "stream",
     "text": [
      "fitting model...\n"
     ]
    },
    {
     "name": "stderr",
     "output_type": "stream",
     "text": [
      "c:\\Users\\wanne\\AppData\\Local\\Programs\\Python\\Python310\\lib\\site-packages\\sklearn\\gaussian_process\\_gpr.py:663: ConvergenceWarning: lbfgs failed to converge (status=2):\n",
      "ABNORMAL_TERMINATION_IN_LNSRCH.\n",
      "\n",
      "Increase the number of iterations (max_iter) or scale the data as shown in:\n",
      "    https://scikit-learn.org/stable/modules/preprocessing.html\n",
      "  _check_optimize_result(\"lbfgs\", opt_res)\n"
     ]
    },
    {
     "name": "stdout",
     "output_type": "stream",
     "text": [
      "model is fitted\n"
     ]
    }
   ],
   "source": [
    "# create the GPR model & fit the model\n",
    "from sklearn.gaussian_process import GaussianProcessRegressor\n",
    "from sklearn.gaussian_process.kernels import DotProduct\n",
    "from sklearn.gaussian_process.kernels import RBF, DotProduct, ConstantKernel, Matern, RationalQuadratic, ExpSineSquared, DotProduct\n",
    "\n",
    "kernel = 1 * RationalQuadratic()\n",
    "model = dc.models.SklearnModel(GaussianProcessRegressor(kernel=kernel, n_restarts_optimizer=20))\n",
    "\n",
    "print(\"fitting model...\")\n",
    "model.fit(train_dataset)\n",
    "print(\"model is fitted\")\n",
    "\n",
    "#predict the test set\n",
    "predicted = model.predict(test_dataset)"
   ]
  },
  {
   "cell_type": "code",
   "execution_count": 97,
   "metadata": {},
   "outputs": [
    {
     "name": "stdout",
     "output_type": "stream",
     "text": [
      "Training set score: {'pearson_r2_score': 0.9999999999999922}\n",
      "Test set score: {'pearson_r2_score': 0.9632152735152644}\n"
     ]
    }
   ],
   "source": [
    "#calculate r2 score\n",
    "metric = dc.metrics.Metric(dc.metrics.pearson_r2_score)\n",
    "print('Training set score:', model.evaluate(train_dataset, metric))\n",
    "test_score= model.evaluate(test_dataset, metric)\n",
    "print('Test set score:',test_score )"
   ]
  },
  {
   "cell_type": "code",
   "execution_count": 98,
   "metadata": {},
   "outputs": [
    {
     "name": "stdout",
     "output_type": "stream",
     "text": [
      "Training set score: {'mean_squared_error': 9.917198441737454e-16}\n",
      "Test set score: {'mean_squared_error': 0.004629278222437468}\n"
     ]
    }
   ],
   "source": [
    "#calculate MSE score\n",
    "metric = dc.metrics.Metric(dc.metrics.mean_squared_error)\n",
    "print('Training set score:', model.evaluate(train_dataset, metric))\n",
    "print('Test set score:', model.evaluate(test_dataset, metric))"
   ]
  },
  {
   "cell_type": "code",
   "execution_count": 99,
   "metadata": {},
   "outputs": [],
   "source": [
    "#convert tekst to string, so it can be depicted in matplotlib\n",
    "number=list(test_score.values())[0]\n",
    "text = \"r2= \"+ str(round(number,3))"
   ]
  },
  {
   "cell_type": "code",
   "execution_count": 100,
   "metadata": {},
   "outputs": [
    {
     "data": {
      "image/png": "[encoded data removed]",
      "text/plain": [
       "<Figure size 640x480 with 1 Axes>"
      ]
     },
     "metadata": {},
     "output_type": "display_data"
    }
   ],
   "source": [
    "#plot the data\n",
    "import matplotlib.pyplot as plt\n",
    "\n",
    "x=[-10,0]\n",
    "y=[-10,0]\n",
    "#text = \"R2= \"+ str(round(test_score))\n",
    "plt.plot(x, y, linestyle=\"dashed\")\n",
    "plt.scatter(test_dataset.y, predicted, label=text)\n",
    "plt.legend()\n",
    "plt.xlabel(\"experimental atomization energy (eV)\")\n",
    "plt.ylabel(\"ML predicted atomization energy (eV)\")\n",
    "plt.title(\"GPR(RQ)_RDKit_combfeat_RFE\")\n",
    "plt.show()\n"
   ]
  }
 ],
 "metadata": {
  "kernelspec": {
   "display_name": "Python 3",
   "language": "python",
   "name": "python3"
  },
  "language_info": {
   "codemirror_mode": {
    "name": "ipython",
    "version": 3
   },
   "file_extension": ".py",
   "mimetype": "text/x-python",
   "name": "python",
   "nbconvert_exporter": "python",
   "pygments_lexer": "ipython3",
   "version": "3.10.2"
  }
 },
 "nbformat": 4,
 "nbformat_minor": 2
}
