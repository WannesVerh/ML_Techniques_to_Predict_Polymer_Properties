{
 "cells": [
  {
   "cell_type": "markdown",
   "metadata": {},
   "source": [
    "Train a GPR model with \"RDkit featurization\" and check performance by r2_score, MSE, MAE"
   ]
  },
  {
   "cell_type": "code",
   "execution_count": 15,
   "metadata": {},
   "outputs": [],
   "source": [
    "# Train a GPR model with RDkit featurization\n",
    "import deepchem as dc\n",
    "import pandas as pd\n",
    "import numpy as np\n",
    "import optuna\n",
    "from sklearn.gaussian_process import GaussianProcessRegressor\n",
    "from sklearn.gaussian_process.kernels import RBF, WhiteKernel, Matern"
   ]
  },
  {
   "cell_type": "code",
   "execution_count": 4,
   "metadata": {},
   "outputs": [
    {
     "name": "stdout",
     "output_type": "stream",
     "text": [
      "loading the data...\n"
     ]
    }
   ],
   "source": [
    "#load the dataset (polymer smiles and their energy of atomization)\n",
    "\n",
    "print(\"loading the data...\")\n",
    "loader = dc.data.CSVLoader([\"Eat\"], feature_field=\"smiles\", featurizer=dc.feat.RDKitDescriptors())\n",
    "Data = loader.create_dataset('../csv_files/Polymers_Eat.csv')"
   ]
  },
  {
   "cell_type": "code",
   "execution_count": 5,
   "metadata": {},
   "outputs": [
    {
     "name": "stdout",
     "output_type": "stream",
     "text": [
      "before:   <DiskDataset X.shape: (390, 210), y.shape: (390, 1), w.shape: (390, 1), ids: ['[*]CC([*])C' '[*]CC([*])F' '[*]CC([*])(F)F' ...\n",
      " '[*]C(F)(F)C(=O)C(F)(F)C(C=C1)=CC=C1[*]' '[*]C(F)(F)OC(F)(F)O[*]'\n",
      " '[*]N(C(=O)C1=C2)C(=O)C1=CC=C2C(=O)C(=CC=C3C4(=O))C=C3C(=O)N4C(C)COCCOCCOC(C)COCC(C)[*]'], task_names: ['Eat']>\n",
      "after:   <DiskDataset X.shape: (390, 210), y.shape: (390, 1), w.shape: (390, 1), ids: ['[*]CC([*])C' '[*]CC([*])F' '[*]CC([*])(F)F' ...\n",
      " '[*]C(F)(F)C(=O)C(F)(F)C(C=C1)=CC=C1[*]' '[*]C(F)(F)OC(F)(F)O[*]'\n",
      " '[*]N(C(=O)C1=C2)C(=O)C1=CC=C2C(=O)C(=CC=C3C4(=O))C=C3C(=O)N4C(C)COCCOCCOC(C)COCC(C)[*]'], task_names: ['Eat']>\n"
     ]
    }
   ],
   "source": [
    "print(\"before:  \",Data)\n",
    "#some RDKit descriptors return nan, make these 0\n",
    "X = np.nan_to_num(Data.X, copy=True, nan=0.0)\n",
    "#add data to dataset\n",
    "Dataset = dc.data.DiskDataset.from_numpy(X=X, y=Data.y, w=Data.w, ids=Data.ids, tasks = [\"Eat\"])\n",
    "print(\"after:  \",Dataset)"
   ]
  },
  {
   "cell_type": "code",
   "execution_count": 6,
   "metadata": {},
   "outputs": [
    {
     "name": "stdout",
     "output_type": "stream",
     "text": [
      "Data is splitted into: train, valid, test\n"
     ]
    }
   ],
   "source": [
    "#split the dataset using the random splitter\n",
    "splitter = dc.splits.RandomSplitter()\n",
    "train_dataset, valid_dataset, test_dataset = splitter.train_valid_test_split(Dataset)\n",
    "print(\"Data is splitted into: train, valid, test\")"
   ]
  },
  {
   "cell_type": "code",
   "execution_count": 16,
   "metadata": {},
   "outputs": [
    {
     "name": "stderr",
     "output_type": "stream",
     "text": [
      "[I 2024-03-01 09:40:06,651] A new study created in memory with name: no-name-4dcf0a27-1c2c-4ed3-8f34-c759e51714e7\n",
      "[I 2024-03-01 09:40:06,814] Trial 0 finished with value: 7.639053180268849 and parameters: {'output_variance': 0.1593778997340992, 'length_scale': 17.716913297989407, 'noise_level': 3.089288320053265, 'alpha': 2.5597215292276654e-07}. Best is trial 0 with value: 7.639053180268849.\n",
      "c:\\Users\\wanne\\AppData\\Local\\Programs\\Python\\Python310\\lib\\site-packages\\sklearn\\gaussian_process\\_gpr.py:663: ConvergenceWarning: lbfgs failed to converge (status=2):\n",
      "ABNORMAL_TERMINATION_IN_LNSRCH.\n",
      "\n",
      "Increase the number of iterations (max_iter) or scale the data as shown in:\n",
      "    https://scikit-learn.org/stable/modules/preprocessing.html\n",
      "  _check_optimize_result(\"lbfgs\", opt_res)\n",
      "[I 2024-03-01 09:40:07,199] Trial 1 finished with value: 0.0023369507182937465 and parameters: {'output_variance': 1.1333192420607736, 'length_scale': 1800.8005868205532, 'noise_level': 1.5125222774705679e-05, 'alpha': 3.6532517601591334e-07}. Best is trial 1 with value: 0.0023369507182937465.\n",
      "[I 2024-03-01 09:40:07,306] Trial 2 finished with value: 7.492609272993529 and parameters: {'output_variance': 2.166011406185635, 'length_scale': 16.74389718260983, 'noise_level': 0.000115715206830666, 'alpha': 5.287454616036914e-12}. Best is trial 1 with value: 0.0023369507182937465.\n",
      "[I 2024-03-01 09:40:07,407] Trial 3 finished with value: 3.316975643197196 and parameters: {'output_variance': 2.0050264117281653, 'length_scale': 24.49040050616995, 'noise_level': 1.3748181988260355, 'alpha': 6.409360308311054e-07}. Best is trial 1 with value: 0.0023369507182937465.\n",
      "c:\\Users\\wanne\\AppData\\Local\\Programs\\Python\\Python310\\lib\\site-packages\\sklearn\\gaussian_process\\kernels.py:424: ConvergenceWarning: The optimal value found for dimension 0 of parameter k1__k1__constant_value is close to the specified lower bound 1e-05. Decreasing the bound and calling fit again may find a better value.\n",
      "  warnings.warn(\n",
      "[I 2024-03-01 09:40:07,625] Trial 4 finished with value: 35.10705128205127 and parameters: {'output_variance': 1.602336544128559, 'length_scale': 1.0670306723154465e-05, 'noise_level': 66.8315346985698, 'alpha': 4.490760505833457e-11}. Best is trial 1 with value: 0.0023369507182937465.\n",
      "[I 2024-03-01 09:40:07,799] Trial 5 finished with value: 35.10702500159979 and parameters: {'output_variance': 6.786050971431813, 'length_scale': 33.43312190989643, 'noise_level': 43479.34507315927, 'alpha': 5.247666993186273e-10}. Best is trial 1 with value: 0.0023369507182937465.\n",
      "[I 2024-03-01 09:40:07,958] Trial 6 finished with value: 35.10705128205127 and parameters: {'output_variance': 2.1887302605958006, 'length_scale': 0.030301559748422233, 'noise_level': 73506.74658595448, 'alpha': 4.985802208281419e-09}. Best is trial 1 with value: 0.0023369507182937465.\n",
      "[I 2024-03-01 09:40:08,120] Trial 7 finished with value: 30.555727222010173 and parameters: {'output_variance': 0.5841715388814607, 'length_scale': 7.452656689753439, 'noise_level': 21.81112617046531, 'alpha': 2.0767003980230524e-10}. Best is trial 1 with value: 0.0023369507182937465.\n",
      "[I 2024-03-01 09:40:08,274] Trial 8 finished with value: 35.10705128205127 and parameters: {'output_variance': 0.3260864782982809, 'length_scale': 0.0014546717840415782, 'noise_level': 1796.957756736067, 'alpha': 1.5980249203376877e-10}. Best is trial 1 with value: 0.0023369507182937465.\n",
      "[I 2024-03-01 09:40:08,317] Trial 9 finished with value: 35.10705128205127 and parameters: {'output_variance': 0.694374475892875, 'length_scale': 0.014724407467373407, 'noise_level': 41209.08610679456, 'alpha': 9.015864308357304e-06}. Best is trial 1 with value: 0.0023369507182937465.\n",
      "c:\\Users\\wanne\\AppData\\Local\\Programs\\Python\\Python310\\lib\\site-packages\\sklearn\\gaussian_process\\kernels.py:434: ConvergenceWarning: The optimal value found for dimension 0 of parameter k1__k1__constant_value is close to the specified upper bound 100000.0. Increasing the bound and calling fit again may find a better value.\n",
      "  warnings.warn(\n",
      "[I 2024-03-01 09:40:08,373] Trial 10 finished with value: 0.0017571732228982007 and parameters: {'output_variance': 9.854992772175974, 'length_scale': 37255.42958472065, 'noise_level': 2.700628506861976e-05, 'alpha': 3.707909483148622e-08}. Best is trial 10 with value: 0.0017571732228982007.\n",
      "c:\\Users\\wanne\\AppData\\Local\\Programs\\Python\\Python310\\lib\\site-packages\\sklearn\\gaussian_process\\kernels.py:434: ConvergenceWarning: The optimal value found for dimension 0 of parameter k1__k1__constant_value is close to the specified upper bound 100000.0. Increasing the bound and calling fit again may find a better value.\n",
      "  warnings.warn(\n",
      "[I 2024-03-01 09:40:08,425] Trial 11 finished with value: 0.0018949344672920133 and parameters: {'output_variance': 7.776291208816018, 'length_scale': 90144.13534396276, 'noise_level': 1.977392449203471e-05, 'alpha': 2.8843512063589563e-08}. Best is trial 10 with value: 0.0017571732228982007.\n",
      "c:\\Users\\wanne\\AppData\\Local\\Programs\\Python\\Python310\\lib\\site-packages\\sklearn\\gaussian_process\\kernels.py:434: ConvergenceWarning: The optimal value found for dimension 0 of parameter k1__k1__constant_value is close to the specified upper bound 100000.0. Increasing the bound and calling fit again may find a better value.\n",
      "  warnings.warn(\n",
      "[I 2024-03-01 09:40:08,482] Trial 12 finished with value: 0.0061735655465668116 and parameters: {'output_variance': 9.707222984945435, 'length_scale': 93496.65525518829, 'noise_level': 0.003635554614125081, 'alpha': 8.820225092444813e-09}. Best is trial 10 with value: 0.0017571732228982007.\n",
      "c:\\Users\\wanne\\AppData\\Local\\Programs\\Python\\Python310\\lib\\site-packages\\sklearn\\gaussian_process\\kernels.py:434: ConvergenceWarning: The optimal value found for dimension 0 of parameter k1__k1__constant_value is close to the specified upper bound 100000.0. Increasing the bound and calling fit again may find a better value.\n",
      "  warnings.warn(\n",
      "[I 2024-03-01 09:40:08,581] Trial 13 finished with value: 0.007978573466316979 and parameters: {'output_variance': 4.640697405375788, 'length_scale': 89685.37166525291, 'noise_level': 0.010668947431998097, 'alpha': 5.279593349626427e-08}. Best is trial 10 with value: 0.0017571732228982007.\n",
      "[I 2024-03-01 09:40:08,681] Trial 14 finished with value: 0.002745077919033732 and parameters: {'output_variance': 4.615828536462122, 'length_scale': 2335.6304704280324, 'noise_level': 0.003681048693164677, 'alpha': 2.5874259563398526e-08}. Best is trial 10 with value: 0.0017571732228982007.\n",
      "[I 2024-03-01 09:40:08,924] Trial 15 finished with value: 0.0023304008771327257 and parameters: {'output_variance': 4.16817036927798, 'length_scale': 2018.2387274338914, 'noise_level': 1.0170493210102924e-05, 'alpha': 3.986536614076056e-06}. Best is trial 10 with value: 0.0017571732228982007.\n",
      "[I 2024-03-01 09:40:09,019] Trial 16 finished with value: 0.012673282261867843 and parameters: {'output_variance': 9.34346050183388, 'length_scale': 9379.409686050372, 'noise_level': 0.06284556278442541, 'alpha': 2.6713600336759754e-09}. Best is trial 10 with value: 0.0017571732228982007.\n",
      "[I 2024-03-01 09:40:09,136] Trial 17 finished with value: 0.005911635922328752 and parameters: {'output_variance': 3.597238869143074, 'length_scale': 283.98101782717083, 'noise_level': 0.00025652689461348586, 'alpha': 4.9321544079152605e-08}. Best is trial 10 with value: 0.0017571732228982007.\n",
      "[I 2024-03-01 09:40:09,400] Trial 18 finished with value: 35.10588551957351 and parameters: {'output_variance': 0.12176931114609202, 'length_scale': 0.39255996738028914, 'noise_level': 0.00024003437411605804, 'alpha': 9.928258137921668e-10}. Best is trial 10 with value: 0.0017571732228982007.\n",
      "[I 2024-03-01 09:40:09,499] Trial 19 finished with value: 0.01020840662622188 and parameters: {'output_variance': 6.628085635890857, 'length_scale': 27429.563013216844, 'noise_level': 0.03571556713129993, 'alpha': 9.79242436725666e-07}. Best is trial 10 with value: 0.0017571732228982007.\n",
      "[I 2024-03-01 09:40:09,625] Trial 20 finished with value: 0.01836085577114051 and parameters: {'output_variance': 0.36288070127549704, 'length_scale': 7458.539983975542, 'noise_level': 0.1638257471946287, 'alpha': 1.395817383807024e-07}. Best is trial 10 with value: 0.0017571732228982007.\n",
      "[I 2024-03-01 09:40:09,766] Trial 21 finished with value: 0.0029348983880096683 and parameters: {'output_variance': 3.514718522786304, 'length_scale': 418.5452687573617, 'noise_level': 1.0104951291127802e-05, 'alpha': 5.634022449254332e-06}. Best is trial 10 with value: 0.0017571732228982007.\n",
      "[I 2024-03-01 09:40:09,921] Trial 22 finished with value: 0.008445171238866634 and parameters: {'output_variance': 6.423621696757394, 'length_scale': 248.0044000198421, 'noise_level': 6.365920831993453e-05, 'alpha': 2.217694897914244e-08}. Best is trial 10 with value: 0.0017571732228982007.\n",
      "[I 2024-03-01 09:40:10,022] Trial 23 finished with value: 0.001977322442194609 and parameters: {'output_variance': 9.96554034028248, 'length_scale': 2560.6452768996683, 'noise_level': 0.0011773426654408262, 'alpha': 2.6508435179439376e-06}. Best is trial 10 with value: 0.0017571732228982007.\n",
      "[I 2024-03-01 09:40:10,120] Trial 24 finished with value: 0.0016807814438285335 and parameters: {'output_variance': 9.787128541293727, 'length_scale': 19013.136009955524, 'noise_level': 0.0010193583403020415, 'alpha': 1.3762988564786354e-06}. Best is trial 24 with value: 0.0016807814438285335.\n",
      "c:\\Users\\wanne\\AppData\\Local\\Programs\\Python\\Python310\\lib\\site-packages\\sklearn\\gaussian_process\\_gpr.py:663: ConvergenceWarning: lbfgs failed to converge (status=2):\n",
      "ABNORMAL_TERMINATION_IN_LNSRCH.\n",
      "\n",
      "Increase the number of iterations (max_iter) or scale the data as shown in:\n",
      "    https://scikit-learn.org/stable/modules/preprocessing.html\n",
      "  _check_optimize_result(\"lbfgs\", opt_res)\n",
      "[I 2024-03-01 09:40:10,500] Trial 25 finished with value: 0.0016703205280710336 and parameters: {'output_variance': 6.4151441943300505, 'length_scale': 20660.464437004444, 'noise_level': 0.0009392865790763047, 'alpha': 8.832372016609078e-08}. Best is trial 25 with value: 0.0016703205280710336.\n",
      "[I 2024-03-01 09:40:10,591] Trial 26 finished with value: 0.0017205040384301361 and parameters: {'output_variance': 2.801673804523113, 'length_scale': 13701.094683955664, 'noise_level': 0.0011581299324737362, 'alpha': 1.2467365154273917e-07}. Best is trial 25 with value: 0.0016703205280710336.\n",
      "[I 2024-03-01 09:40:10,785] Trial 27 finished with value: 35.02571300622431 and parameters: {'output_variance': 3.044020231725864, 'length_scale': 0.7244145758980101, 'noise_level': 0.0008516342849273587, 'alpha': 1.1041939954574426e-06}. Best is trial 25 with value: 0.0016703205280710336.\n",
      "[I 2024-03-01 09:40:10,920] Trial 28 finished with value: 0.047486711042452355 and parameters: {'output_variance': 5.247825606683569, 'length_scale': 169.26181598280613, 'noise_level': 0.22270666162036298, 'alpha': 2.030250686068056e-07}. Best is trial 25 with value: 0.0016703205280710336.\n",
      "[I 2024-03-01 09:40:11,014] Trial 29 finished with value: 0.006952797421550365 and parameters: {'output_variance': 2.602332411647731, 'length_scale': 7350.413973262019, 'noise_level': 0.016184960208640926, 'alpha': 1.5722847819775268e-07}. Best is trial 25 with value: 0.0016703205280710336.\n",
      "[I 2024-03-01 09:40:11,222] Trial 30 finished with value: 32.09167743786574 and parameters: {'output_variance': 1.3722631575645334, 'length_scale': 4.035187858130816, 'noise_level': 0.000691267584517435, 'alpha': 1.362585340715701e-06}. Best is trial 25 with value: 0.0016703205280710336.\n",
      "[I 2024-03-01 09:40:11,578] Trial 31 finished with value: 0.0033437988445130097 and parameters: {'output_variance': 6.61875406440927, 'length_scale': 33567.98128510759, 'noise_level': 0.004737428414530611, 'alpha': 1.067736501240557e-07}. Best is trial 25 with value: 0.0016703205280710336.\n",
      "[I 2024-03-01 09:40:11,763] Trial 32 finished with value: 0.001792400748243117 and parameters: {'output_variance': 5.642664949420865, 'length_scale': 17235.916002931404, 'noise_level': 6.680883696505687e-05, 'alpha': 3.9246425414673065e-07}. Best is trial 25 with value: 0.0016703205280710336.\n",
      "[I 2024-03-01 09:40:11,958] Trial 33 finished with value: 0.0022652393120958865 and parameters: {'output_variance': 7.785189017525197, 'length_scale': 961.8566989070838, 'noise_level': 5.664301785748292e-05, 'alpha': 9.018552503157195e-09}. Best is trial 25 with value: 0.0016703205280710336.\n",
      "[I 2024-03-01 09:40:12,082] Trial 34 finished with value: 0.3259362188119527 and parameters: {'output_variance': 2.8478972304680754, 'length_scale': 69.84693832509733, 'noise_level': 0.0004508500477905258, 'alpha': 8.420937257611928e-08}. Best is trial 25 with value: 0.0016703205280710336.\n",
      "[I 2024-03-01 09:40:12,207] Trial 35 finished with value: 0.06097940922670924 and parameters: {'output_variance': 0.8521926433033677, 'length_scale': 4687.877054895228, 'noise_level': 4.8626131476282275, 'alpha': 3.9946025392585346e-07}. Best is trial 25 with value: 0.0016703205280710336.\n",
      "[I 2024-03-01 09:40:12,324] Trial 36 finished with value: 0.002082253173498904 and parameters: {'output_variance': 5.245757084276929, 'length_scale': 944.4127429146885, 'noise_level': 0.0018695131417534837, 'alpha': 3.288828340545793e-12}. Best is trial 25 with value: 0.0016703205280710336.\n",
      "c:\\Users\\wanne\\AppData\\Local\\Programs\\Python\\Python310\\lib\\site-packages\\sklearn\\gaussian_process\\kernels.py:434: ConvergenceWarning: The optimal value found for dimension 0 of parameter k1__k1__constant_value is close to the specified upper bound 100000.0. Increasing the bound and calling fit again may find a better value.\n",
      "  warnings.warn(\n",
      "[I 2024-03-01 09:40:12,379] Trial 37 finished with value: 0.0016565720564738818 and parameters: {'output_variance': 1.9340083196338278, 'length_scale': 27612.22501181604, 'noise_level': 0.00014217894357993288, 'alpha': 4.813799839170017e-07}. Best is trial 37 with value: 0.0016565720564738818.\n",
      "[I 2024-03-01 09:40:12,542] Trial 38 finished with value: 35.10705128205127 and parameters: {'output_variance': 1.674859509876176, 'length_scale': 0.00011655553244967274, 'noise_level': 0.00011570425865410855, 'alpha': 1.8382626083426563e-06}. Best is trial 37 with value: 0.0016565720564738818.\n",
      "[I 2024-03-01 09:40:12,671] Trial 39 finished with value: 0.45733395381702946 and parameters: {'output_variance': 2.317706596098849, 'length_scale': 64.37371898735992, 'noise_level': 0.44083235190475634, 'alpha': 5.592879192334984e-07}. Best is trial 37 with value: 0.0016565720564738818.\n",
      "[I 2024-03-01 09:40:12,767] Trial 40 finished with value: 0.008455055985916445 and parameters: {'output_variance': 1.3155421673894339, 'length_scale': 14984.86456736527, 'noise_level': 0.02435971472491177, 'alpha': 2.809307632657541e-07}. Best is trial 37 with value: 0.0016565720564738818.\n",
      "c:\\Users\\wanne\\AppData\\Local\\Programs\\Python\\Python310\\lib\\site-packages\\sklearn\\gaussian_process\\kernels.py:434: ConvergenceWarning: The optimal value found for dimension 0 of parameter k1__k1__constant_value is close to the specified upper bound 100000.0. Increasing the bound and calling fit again may find a better value.\n",
      "  warnings.warn(\n",
      "[I 2024-03-01 09:40:12,821] Trial 41 finished with value: 0.0017170534725905022 and parameters: {'output_variance': 1.9325340743773258, 'length_scale': 37530.350154857464, 'noise_level': 4.140041578735193e-05, 'alpha': 1.4428178282064835e-11}. Best is trial 37 with value: 0.0016565720564738818.\n",
      "c:\\Users\\wanne\\AppData\\Local\\Programs\\Python\\Python310\\lib\\site-packages\\sklearn\\gaussian_process\\kernels.py:434: ConvergenceWarning: The optimal value found for dimension 0 of parameter k1__k1__constant_value is close to the specified upper bound 100000.0. Increasing the bound and calling fit again may find a better value.\n",
      "  warnings.warn(\n",
      "[I 2024-03-01 09:40:12,941] Trial 42 finished with value: 0.0016562999956521158 and parameters: {'output_variance': 1.7266653084426138, 'length_scale': 29617.636707572867, 'noise_level': 0.0002629943942397343, 'alpha': 1.111499453269507e-11}. Best is trial 42 with value: 0.0016562999956521158.\n",
      "c:\\Users\\wanne\\AppData\\Local\\Programs\\Python\\Python310\\lib\\site-packages\\sklearn\\gaussian_process\\kernels.py:434: ConvergenceWarning: The optimal value found for dimension 0 of parameter k1__k1__constant_value is close to the specified upper bound 100000.0. Increasing the bound and calling fit again may find a better value.\n",
      "  warnings.warn(\n",
      "[I 2024-03-01 09:40:13,003] Trial 43 finished with value: 0.0017419637522382242 and parameters: {'output_variance': 0.8506576303121733, 'length_scale': 43274.41741142167, 'noise_level': 0.00021184452134322026, 'alpha': 1.6268801890273786e-11}. Best is trial 42 with value: 0.0016562999956521158.\n",
      "[I 2024-03-01 09:40:13,145] Trial 44 finished with value: 0.0022957133447526748 and parameters: {'output_variance': 1.8227311885522157, 'length_scale': 969.6001763391458, 'noise_level': 3.077724813654798e-05, 'alpha': 1.3289642836115076e-12}. Best is trial 42 with value: 0.0016562999956521158.\n",
      "[I 2024-03-01 09:40:13,275] Trial 45 finished with value: 0.004626560025611756 and parameters: {'output_variance': 1.0148926268354894, 'length_scale': 4929.012258905266, 'noise_level': 0.007868640574306054, 'alpha': 3.028429125607318e-11}. Best is trial 42 with value: 0.0016562999956521158.\n",
      "c:\\Users\\wanne\\AppData\\Local\\Programs\\Python\\Python310\\lib\\site-packages\\sklearn\\gaussian_process\\kernels.py:434: ConvergenceWarning: The optimal value found for dimension 0 of parameter k1__k1__constant_value is close to the specified upper bound 100000.0. Increasing the bound and calling fit again may find a better value.\n",
      "  warnings.warn(\n",
      "[I 2024-03-01 09:40:13,342] Trial 46 finished with value: 0.002516577985488999 and parameters: {'output_variance': 0.563868516723035, 'length_scale': 95563.05119799092, 'noise_level': 0.00016433867298652508, 'alpha': 7.887596027876342e-11}. Best is trial 42 with value: 0.0016562999956521158.\n",
      "[I 2024-03-01 09:40:13,458] Trial 47 finished with value: 0.5162892952169468 and parameters: {'output_variance': 1.37131897945435, 'length_scale': 33230.95301103212, 'noise_level': 1191.3618248316109, 'alpha': 8.699151520239291e-12}. Best is trial 42 with value: 0.0016562999956521158.\n",
      "[I 2024-03-01 09:40:13,615] Trial 48 finished with value: 35.10705128205127 and parameters: {'output_variance': 2.050390950664535, 'length_scale': 0.0577616507160852, 'noise_level': 0.002586140943657344, 'alpha': 3.9025635401537393e-10}. Best is trial 42 with value: 0.0016562999956521158.\n",
      "[I 2024-03-01 09:40:13,833] Trial 49 finished with value: 0.0022195439995696476 and parameters: {'output_variance': 3.806908908129196, 'length_scale': 2845.052531014989, 'noise_level': 3.429162074644333e-05, 'alpha': 2.0017617190912925e-12}. Best is trial 42 with value: 0.0016562999956521158.\n",
      "[I 2024-03-01 09:40:14,078] Trial 50 finished with value: 0.0020951405353766208 and parameters: {'output_variance': 0.29333741211040565, 'length_scale': 784.3694170730664, 'noise_level': 0.000361393356501579, 'alpha': 8.322492964990042e-11}. Best is trial 42 with value: 0.0016562999956521158.\n",
      "c:\\Users\\wanne\\AppData\\Local\\Programs\\Python\\Python310\\lib\\site-packages\\sklearn\\gaussian_process\\_gpr.py:663: ConvergenceWarning: lbfgs failed to converge (status=2):\n",
      "ABNORMAL_TERMINATION_IN_LNSRCH.\n",
      "\n",
      "Increase the number of iterations (max_iter) or scale the data as shown in:\n",
      "    https://scikit-learn.org/stable/modules/preprocessing.html\n",
      "  _check_optimize_result(\"lbfgs\", opt_res)\n",
      "[I 2024-03-01 09:40:14,801] Trial 51 finished with value: 0.0017029018333243019 and parameters: {'output_variance': 2.524865130172483, 'length_scale': 13173.261494266992, 'noise_level': 0.0009501275487747485, 'alpha': 6.868541983875165e-12}. Best is trial 42 with value: 0.0016562999956521158.\n",
      "[I 2024-03-01 09:40:14,960] Trial 52 finished with value: 0.0017247992546279443 and parameters: {'output_variance': 1.5729266280518277, 'length_scale': 18481.657780099024, 'noise_level': 0.00011965787160147106, 'alpha': 8.415567635958522e-12}. Best is trial 42 with value: 0.0016562999956521158.\n",
      "c:\\Users\\wanne\\AppData\\Local\\Programs\\Python\\Python310\\lib\\site-packages\\sklearn\\gaussian_process\\kernels.py:434: ConvergenceWarning: The optimal value found for dimension 0 of parameter k1__k1__constant_value is close to the specified upper bound 100000.0. Increasing the bound and calling fit again may find a better value.\n",
      "  warnings.warn(\n",
      "[I 2024-03-01 09:40:15,040] Trial 53 finished with value: 0.0020841297572558584 and parameters: {'output_variance': 2.168406429014156, 'length_scale': 49819.23285350181, 'noise_level': 0.0006496580199502597, 'alpha': 4.707347310636745e-12}. Best is trial 42 with value: 0.0016562999956521158.\n",
      "[I 2024-03-01 09:40:15,171] Trial 54 finished with value: 0.0032000572857061108 and parameters: {'output_variance': 7.960829345647531, 'length_scale': 7720.978813086976, 'noise_level': 0.0046570916061366196, 'alpha': 1.4406653953827365e-09}. Best is trial 42 with value: 0.0016562999956521158.\n",
      "[I 2024-03-01 09:40:15,317] Trial 55 finished with value: 0.012727864211994195 and parameters: {'output_variance': 1.2102690084343268, 'length_scale': 87577.24897412742, 'noise_level': 0.051958492740998105, 'alpha': 2.052094574527554e-11}. Best is trial 42 with value: 0.0016562999956521158.\n",
      "[I 2024-03-01 09:40:15,524] Trial 56 finished with value: 0.002151536193402471 and parameters: {'output_variance': 3.1551151031308633, 'length_scale': 3780.959916191052, 'noise_level': 2.207297846913618e-05, 'alpha': 9.09937141650999e-06}. Best is trial 42 with value: 0.0016562999956521158.\n",
      "c:\\Users\\wanne\\AppData\\Local\\Programs\\Python\\Python310\\lib\\site-packages\\sklearn\\gaussian_process\\kernels.py:424: ConvergenceWarning: The optimal value found for dimension 0 of parameter k1__k1__constant_value is close to the specified lower bound 1e-05. Decreasing the bound and calling fit again may find a better value.\n",
      "  warnings.warn(\n",
      "[I 2024-03-01 09:40:15,879] Trial 57 finished with value: 35.10705128205127 and parameters: {'output_variance': 2.397227613656615, 'length_scale': 0.0024909611832548977, 'noise_level': 100.63832894331246, 'alpha': 1.0315856276699463e-12}. Best is trial 42 with value: 0.0016562999956521158.\n",
      "[I 2024-03-01 09:40:16,220] Trial 58 finished with value: 0.0017840182234991325 and parameters: {'output_variance': 4.363888481914368, 'length_scale': 14462.818841390863, 'noise_level': 7.30818923554384e-05, 'alpha': 6.022145792637326e-11}. Best is trial 42 with value: 0.0016562999956521158.\n",
      "[I 2024-03-01 09:40:16,417] Trial 59 finished with value: 0.0021033327532636796 and parameters: {'output_variance': 1.5841641174976375, 'length_scale': 1917.9287353802606, 'noise_level': 0.0003203061511812528, 'alpha': 3.857809224163884e-06}. Best is trial 42 with value: 0.0016562999956521158.\n",
      "c:\\Users\\wanne\\AppData\\Local\\Programs\\Python\\Python310\\lib\\site-packages\\sklearn\\gaussian_process\\kernels.py:434: ConvergenceWarning: The optimal value found for dimension 0 of parameter k1__k1__constant_value is close to the specified upper bound 100000.0. Increasing the bound and calling fit again may find a better value.\n",
      "  warnings.warn(\n",
      "[I 2024-03-01 09:40:16,491] Trial 60 finished with value: 0.0026203951528142116 and parameters: {'output_variance': 1.0631253376670935, 'length_scale': 48353.738150170706, 'noise_level': 0.0016356105754264637, 'alpha': 1.348837012872373e-10}. Best is trial 42 with value: 0.0016562999956521158.\n",
      "[I 2024-03-01 09:40:16,735] Trial 61 finished with value: 0.0017251394888767018 and parameters: {'output_variance': 1.9419332191674354, 'length_scale': 11028.81212065305, 'noise_level': 0.0009092628616392073, 'alpha': 1.6662515165816784e-08}. Best is trial 42 with value: 0.0016562999956521158.\n",
      "[I 2024-03-01 09:40:16,861] Trial 62 finished with value: 0.00461071344909353 and parameters: {'output_variance': 2.7410154174880526, 'length_scale': 24103.322039822044, 'noise_level': 0.007690604080537691, 'alpha': 6.358854608985228e-07}. Best is trial 42 with value: 0.0016562999956521158.\n",
      "[I 2024-03-01 09:40:16,987] Trial 63 finished with value: 0.001950382999644303 and parameters: {'output_variance': 3.2084344190691447, 'length_scale': 3877.00483139198, 'noise_level': 0.0015268462795489286, 'alpha': 1.7621374485915174e-11}. Best is trial 42 with value: 0.0016562999956521158.\n",
      "[I 2024-03-01 09:40:17,298] Trial 64 finished with value: 0.002528197907117695 and parameters: {'output_variance': 8.470714189012739, 'length_scale': 461.2563483727291, 'noise_level': 0.00045927911219899043, 'alpha': 5.997405725066193e-08}. Best is trial 42 with value: 0.0016562999956521158.\n",
      "c:\\Users\\wanne\\AppData\\Local\\Programs\\Python\\Python310\\lib\\site-packages\\sklearn\\gaussian_process\\_gpr.py:663: ConvergenceWarning: lbfgs failed to converge (status=2):\n",
      "ABNORMAL_TERMINATION_IN_LNSRCH.\n",
      "\n",
      "Increase the number of iterations (max_iter) or scale the data as shown in:\n",
      "    https://scikit-learn.org/stable/modules/preprocessing.html\n",
      "  _check_optimize_result(\"lbfgs\", opt_res)\n",
      "[I 2024-03-01 09:40:17,998] Trial 65 finished with value: 0.0019672712163033078 and parameters: {'output_variance': 2.5040752223316494, 'length_scale': 10461.097478069576, 'noise_level': 1.4197269694939422e-05, 'alpha': 9.344730862514379e-12}. Best is trial 42 with value: 0.0016562999956521158.\n",
      "[I 2024-03-01 09:40:18,174] Trial 66 finished with value: 21.00864171128472 and parameters: {'output_variance': 6.006330628272545, 'length_scale': 9.41903993607473, 'noise_level': 0.00011551253164255661, 'alpha': 5.0822282750974965e-09}. Best is trial 42 with value: 0.0016562999956521158.\n",
      "c:\\Users\\wanne\\AppData\\Local\\Programs\\Python\\Python310\\lib\\site-packages\\sklearn\\gaussian_process\\kernels.py:434: ConvergenceWarning: The optimal value found for dimension 0 of parameter k1__k1__constant_value is close to the specified upper bound 100000.0. Increasing the bound and calling fit again may find a better value.\n",
      "  warnings.warn(\n",
      "[I 2024-03-01 09:40:18,252] Trial 67 finished with value: 0.0017564409998241516 and parameters: {'output_variance': 3.8275599299603074, 'length_scale': 54819.018493479896, 'noise_level': 5.086352722862425e-05, 'alpha': 3.3689669910122305e-12}. Best is trial 42 with value: 0.0016562999956521158.\n",
      "[I 2024-03-01 09:40:18,385] Trial 68 finished with value: 0.006059174460274114 and parameters: {'output_variance': 1.6459515597642784, 'length_scale': 19936.53900722966, 'noise_level': 0.01235794195052401, 'alpha': 2.1221149301273435e-06}. Best is trial 42 with value: 0.0016562999956521158.\n",
      "[I 2024-03-01 09:40:18,503] Trial 69 finished with value: 0.0025001121725487137 and parameters: {'output_variance': 4.5231838019868835, 'length_scale': 1583.8155074887259, 'noise_level': 0.003134045164669212, 'alpha': 8.399309872010313e-07}. Best is trial 42 with value: 0.0016562999956521158.\n",
      "[I 2024-03-01 09:40:18,645] Trial 70 finished with value: 0.0818421993275561 and parameters: {'output_variance': 1.9057350829162232, 'length_scale': 116.54921258127834, 'noise_level': 0.00020827569157349116, 'alpha': 1.680631401236094e-07}. Best is trial 42 with value: 0.0016562999956521158.\n",
      "c:\\Users\\wanne\\AppData\\Local\\Programs\\Python\\Python310\\lib\\site-packages\\sklearn\\gaussian_process\\kernels.py:434: ConvergenceWarning: The optimal value found for dimension 0 of parameter k1__k1__constant_value is close to the specified upper bound 100000.0. Increasing the bound and calling fit again may find a better value.\n",
      "  warnings.warn(\n",
      "[I 2024-03-01 09:40:18,713] Trial 71 finished with value: 0.0017249786840957987 and parameters: {'output_variance': 1.7174081821193685, 'length_scale': 20315.639335685624, 'noise_level': 0.00010570512103585661, 'alpha': 5.94058198971649e-12}. Best is trial 42 with value: 0.0016562999956521158.\n",
      "c:\\Users\\wanne\\AppData\\Local\\Programs\\Python\\Python310\\lib\\site-packages\\sklearn\\gaussian_process\\_gpr.py:663: ConvergenceWarning: lbfgs failed to converge (status=2):\n",
      "ABNORMAL_TERMINATION_IN_LNSRCH.\n",
      "\n",
      "Increase the number of iterations (max_iter) or scale the data as shown in:\n",
      "    https://scikit-learn.org/stable/modules/preprocessing.html\n",
      "  _check_optimize_result(\"lbfgs\", opt_res)\n",
      "[I 2024-03-01 09:40:19,169] Trial 72 finished with value: 0.0017678695139126317 and parameters: {'output_variance': 1.4742404451758038, 'length_scale': 8963.571239795932, 'noise_level': 0.0009969355527493454, 'alpha': 1.0696596899622197e-11}. Best is trial 42 with value: 0.0016562999956521158.\n",
      "[I 2024-03-01 09:40:19,385] Trial 73 finished with value: 0.002067534082976036 and parameters: {'output_variance': 1.2546294685387638, 'length_scale': 5071.499308675204, 'noise_level': 3.0316608592836746e-05, 'alpha': 2.984960242437136e-07}. Best is trial 42 with value: 0.0016562999956521158.\n",
      "c:\\Users\\wanne\\AppData\\Local\\Programs\\Python\\Python310\\lib\\site-packages\\sklearn\\gaussian_process\\kernels.py:434: ConvergenceWarning: The optimal value found for dimension 0 of parameter k1__k1__constant_value is close to the specified upper bound 100000.0. Increasing the bound and calling fit again may find a better value.\n",
      "  warnings.warn(\n",
      "[I 2024-03-01 09:40:19,460] Trial 74 finished with value: 0.0016607251996980348 and parameters: {'output_variance': 2.1573421579426344, 'length_scale': 29721.60138908354, 'noise_level': 0.0003155163693105422, 'alpha': 3.2675684289238106e-11}. Best is trial 42 with value: 0.0016562999956521158.\n",
      "[I 2024-03-01 09:40:19,741] Trial 75 finished with value: 35.10705128205127 and parameters: {'output_variance': 0.8599039688607586, 'length_scale': 1.364607622942018e-05, 'noise_level': 0.0004382168310326926, 'alpha': 3.1713665178280785e-11}. Best is trial 42 with value: 0.0016562999956521158.\n",
      "c:\\Users\\wanne\\AppData\\Local\\Programs\\Python\\Python310\\lib\\site-packages\\sklearn\\gaussian_process\\kernels.py:434: ConvergenceWarning: The optimal value found for dimension 0 of parameter k1__k1__constant_value is close to the specified upper bound 100000.0. Increasing the bound and calling fit again may find a better value.\n",
      "  warnings.warn(\n",
      "[I 2024-03-01 09:40:19,816] Trial 76 finished with value: 0.0026284610724256505 and parameters: {'output_variance': 2.2055992574627514, 'length_scale': 93502.14838508812, 'noise_level': 0.00021327286892362633, 'alpha': 2.624353856501751e-10}. Best is trial 42 with value: 0.0016562999956521158.\n",
      "c:\\Users\\wanne\\AppData\\Local\\Programs\\Python\\Python310\\lib\\site-packages\\sklearn\\gaussian_process\\kernels.py:434: ConvergenceWarning: The optimal value found for dimension 0 of parameter k1__k1__constant_value is close to the specified upper bound 100000.0. Increasing the bound and calling fit again may find a better value.\n",
      "  warnings.warn(\n",
      "[I 2024-03-01 09:40:19,893] Trial 77 finished with value: 0.001709840796725166 and parameters: {'output_variance': 3.2179224550171694, 'length_scale': 31378.084749045414, 'noise_level': 0.0006612318914388521, 'alpha': 9.860016025784109e-08}. Best is trial 42 with value: 0.0016562999956521158.\n",
      "c:\\Users\\wanne\\AppData\\Local\\Programs\\Python\\Python310\\lib\\site-packages\\sklearn\\gaussian_process\\kernels.py:434: ConvergenceWarning: The optimal value found for dimension 0 of parameter k1__k1__constant_value is close to the specified upper bound 100000.0. Increasing the bound and calling fit again may find a better value.\n",
      "  warnings.warn(\n",
      "[I 2024-03-01 09:40:19,963] Trial 78 finished with value: 0.001883943553711571 and parameters: {'output_variance': 5.020742917651402, 'length_scale': 36533.362104163, 'noise_level': 1.0121628453081186e-05, 'alpha': 3.7323392300536605e-11}. Best is trial 42 with value: 0.0016562999956521158.\n",
      "[I 2024-03-01 09:40:20,106] Trial 79 finished with value: 35.10705128100184 and parameters: {'output_variance': 7.149706902273827, 'length_scale': 0.16185554346194855, 'noise_level': 3.0060613938244454, 'alpha': 2.895660005364723e-12}. Best is trial 42 with value: 0.0016562999956521158.\n",
      "[I 2024-03-01 09:40:20,283] Trial 80 finished with value: 0.00183721853228356 and parameters: {'output_variance': 3.4227230171783263, 'length_scale': 6080.960183767095, 'noise_level': 0.0006062045690971852, 'alpha': 1.3915935404136126e-06}. Best is trial 42 with value: 0.0016562999956521158.\n",
      "c:\\Users\\wanne\\AppData\\Local\\Programs\\Python\\Python310\\lib\\site-packages\\sklearn\\gaussian_process\\kernels.py:434: ConvergenceWarning: The optimal value found for dimension 0 of parameter k1__k1__constant_value is close to the specified upper bound 100000.0. Increasing the bound and calling fit again may find a better value.\n",
      "  warnings.warn(\n",
      "[I 2024-03-01 09:40:20,352] Trial 81 finished with value: 0.0033660940235099358 and parameters: {'output_variance': 2.8236648027848177, 'length_scale': 54991.36533373042, 'noise_level': 0.002320866636774866, 'alpha': 9.80955571044093e-08}. Best is trial 42 with value: 0.0016562999956521158.\n",
      "c:\\Users\\wanne\\AppData\\Local\\Programs\\Python\\Python310\\lib\\site-packages\\sklearn\\gaussian_process\\_gpr.py:663: ConvergenceWarning: lbfgs failed to converge (status=2):\n",
      "ABNORMAL_TERMINATION_IN_LNSRCH.\n",
      "\n",
      "Increase the number of iterations (max_iter) or scale the data as shown in:\n",
      "    https://scikit-learn.org/stable/modules/preprocessing.html\n",
      "  _check_optimize_result(\"lbfgs\", opt_res)\n",
      "[I 2024-03-01 09:40:20,763] Trial 82 finished with value: 0.001703001852746698 and parameters: {'output_variance': 2.516367242101479, 'length_scale': 21483.399899120435, 'noise_level': 0.0011997552496755047, 'alpha': 7.107127722395272e-08}. Best is trial 42 with value: 0.0016562999956521158.\n",
      "[I 2024-03-01 09:40:20,873] Trial 83 finished with value: 0.0033215674105460556 and parameters: {'output_variance': 2.4583418724725488, 'length_scale': 32617.773125995325, 'noise_level': 0.004699931141217284, 'alpha': 3.403863504486416e-08}. Best is trial 42 with value: 0.0016562999956521158.\n",
      "[I 2024-03-01 09:40:21,079] Trial 84 finished with value: 0.0022792596627758143 and parameters: {'output_variance': 2.0139737234985042, 'length_scale': 1660.4477806440436, 'noise_level': 5.0149316619064995e-05, 'alpha': 6.721651036024069e-08}. Best is trial 42 with value: 0.0016562999956521158.\n",
      "c:\\Users\\wanne\\AppData\\Local\\Programs\\Python\\Python310\\lib\\site-packages\\sklearn\\gaussian_process\\kernels.py:434: ConvergenceWarning: The optimal value found for dimension 0 of parameter k1__k1__constant_value is close to the specified upper bound 100000.0. Increasing the bound and calling fit again may find a better value.\n",
      "  warnings.warn(\n",
      "[I 2024-03-01 09:40:21,152] Trial 85 finished with value: 0.001639884046784274 and parameters: {'output_variance': 9.251381376591587, 'length_scale': 24813.31837884516, 'noise_level': 0.0003107952314804158, 'alpha': 1.8404758808328006e-08}. Best is trial 85 with value: 0.001639884046784274.\n",
      "[I 2024-03-01 09:40:21,379] Trial 86 finished with value: 34.065376836502274 and parameters: {'output_variance': 8.672723068465917, 'length_scale': 1.743626795560588, 'noise_level': 0.02067064029012798, 'alpha': 8.81850190894898e-09}. Best is trial 85 with value: 0.001639884046784274.\n",
      "[I 2024-03-01 09:40:21,496] Trial 87 finished with value: 0.001745115431393756 and parameters: {'output_variance': 7.114133652130351, 'length_scale': 12951.546202219079, 'noise_level': 0.0012949105907941474, 'alpha': 2.2685565854445256e-08}. Best is trial 85 with value: 0.001639884046784274.\n",
      "[I 2024-03-01 09:40:21,616] Trial 88 finished with value: 0.017264854417881358 and parameters: {'output_variance': 9.23815443845263, 'length_scale': 66516.65908115545, 'noise_level': 0.1029477116744987, 'alpha': 1.3618615994838444e-08}. Best is trial 85 with value: 0.001639884046784274.\n",
      "c:\\Users\\wanne\\AppData\\Local\\Programs\\Python\\Python310\\lib\\site-packages\\sklearn\\gaussian_process\\_gpr.py:663: ConvergenceWarning: lbfgs failed to converge (status=2):\n",
      "ABNORMAL_TERMINATION_IN_LNSRCH.\n",
      "\n",
      "Increase the number of iterations (max_iter) or scale the data as shown in:\n",
      "    https://scikit-learn.org/stable/modules/preprocessing.html\n",
      "  _check_optimize_result(\"lbfgs\", opt_res)\n",
      "[I 2024-03-01 09:40:22,131] Trial 89 finished with value: 0.0016394150190287777 and parameters: {'output_variance': 4.075441375085855, 'length_scale': 20498.089386052026, 'noise_level': 0.0003288932855124446, 'alpha': 4.6572465505553065e-08}. Best is trial 89 with value: 0.0016394150190287777.\n",
      "[I 2024-03-01 09:40:22,545] Trial 90 finished with value: 0.0018586511668142864 and parameters: {'output_variance': 6.156826896227181, 'length_scale': 6024.943143249111, 'noise_level': 0.0002437818033692813, 'alpha': 3.525154025150487e-08}. Best is trial 89 with value: 0.0016394150190287777.\n",
      "c:\\Users\\wanne\\AppData\\Local\\Programs\\Python\\Python310\\lib\\site-packages\\sklearn\\gaussian_process\\kernels.py:434: ConvergenceWarning: The optimal value found for dimension 0 of parameter k1__k1__constant_value is close to the specified upper bound 100000.0. Increasing the bound and calling fit again may find a better value.\n",
      "  warnings.warn(\n",
      "[I 2024-03-01 09:40:22,610] Trial 91 finished with value: 0.0016558768022225496 and parameters: {'output_variance': 3.768453488595036, 'length_scale': 24809.144786852306, 'noise_level': 0.0006744923187168746, 'alpha': 5.201580922741841e-08}. Best is trial 89 with value: 0.0016394150190287777.\n",
      "c:\\Users\\wanne\\AppData\\Local\\Programs\\Python\\Python310\\lib\\site-packages\\sklearn\\gaussian_process\\kernels.py:434: ConvergenceWarning: The optimal value found for dimension 0 of parameter k1__k1__constant_value is close to the specified upper bound 100000.0. Increasing the bound and calling fit again may find a better value.\n",
      "  warnings.warn(\n",
      "[I 2024-03-01 09:40:22,675] Trial 92 finished with value: 0.0016380800043661148 and parameters: {'output_variance': 3.993835874604284, 'length_scale': 21172.89928006495, 'noise_level': 0.0003398641133557433, 'alpha': 4.700675409041466e-07}. Best is trial 92 with value: 0.0016380800043661148.\n",
      "[I 2024-03-01 09:40:22,828] Trial 93 finished with value: 0.001753870807419065 and parameters: {'output_variance': 5.139367121235876, 'length_scale': 10342.928721973416, 'noise_level': 0.00014391174264893766, 'alpha': 1.8593940912521168e-07}. Best is trial 92 with value: 0.0016380800043661148.\n",
      "[I 2024-03-01 09:40:22,999] Trial 94 finished with value: 0.002017942398304 and parameters: {'output_variance': 3.7248563311650376, 'length_scale': 3256.893175451086, 'noise_level': 0.000316270733450946, 'alpha': 4.8335209349625375e-08}. Best is trial 92 with value: 0.0016380800043661148.\n",
      "[I 2024-03-01 09:40:23,109] Trial 95 finished with value: 0.004688203557626026 and parameters: {'output_variance': 5.512982714880827, 'length_scale': 23827.691816413484, 'noise_level': 0.007898620670658206, 'alpha': 5.352448168968265e-07}. Best is trial 92 with value: 0.0016380800043661148.\n",
      "c:\\Users\\wanne\\AppData\\Local\\Programs\\Python\\Python310\\lib\\site-packages\\sklearn\\gaussian_process\\kernels.py:434: ConvergenceWarning: The optimal value found for dimension 0 of parameter k1__k1__constant_value is close to the specified upper bound 100000.0. Increasing the bound and calling fit again may find a better value.\n",
      "  warnings.warn(\n",
      "[I 2024-03-01 09:40:23,173] Trial 96 finished with value: 0.001863766993819298 and parameters: {'output_variance': 9.898743287119625, 'length_scale': 63301.149994035106, 'noise_level': 0.00010499235793554157, 'alpha': 3.357450963982001e-09}. Best is trial 92 with value: 0.0016380800043661148.\n",
      "[I 2024-03-01 09:40:23,278] Trial 97 finished with value: 0.001907705394152373 and parameters: {'output_variance': 3.9646491853735744, 'length_scale': 12958.917586535481, 'noise_level': 0.001970567780434699, 'alpha': 4.752413778233665e-06}. Best is trial 92 with value: 0.0016380800043661148.\n",
      "[I 2024-03-01 09:40:23,487] Trial 98 finished with value: 0.0019021050564705859 and parameters: {'output_variance': 7.55435349538942, 'length_scale': 7124.646179660817, 'noise_level': 7.048882895395514e-05, 'alpha': 1.401352094679347e-08}. Best is trial 92 with value: 0.0016380800043661148.\n",
      "[I 2024-03-01 09:40:23,614] Trial 99 finished with value: 0.0020532761971357636 and parameters: {'output_variance': 4.831419627474873, 'length_scale': 2003.1195294069958, 'noise_level': 0.0005105656194669201, 'alpha': 2.40625474006668e-07}. Best is trial 92 with value: 0.0016380800043661148.\n"
     ]
    }
   ],
   "source": [
    "## finetuning parameters\n",
    "def get_model(trial):\n",
    "    output_variance = trial.suggest_float('output_variance', 0.1, 10, log=True)\n",
    "    length_scale = trial.suggest_float('length_scale', 1e-5, 1e5, log=True)\n",
    "    noise_level = trial.suggest_float('noise_level', 1e-5, 1e5, log=True)\n",
    "\n",
    "    params = {\n",
    "        'kernel': output_variance**2 * Matern(length_scale=length_scale, length_scale_bounds='fixed') + WhiteKernel(noise_level=noise_level, noise_level_bounds='fixed'),\n",
    "        'alpha': trial.suggest_float('alpha', 1e-12, 1e-5, log=True),\n",
    "    }\n",
    "\n",
    "    sklearn_gpr = GaussianProcessRegressor(**params)\n",
    "    return dc.models.SklearnModel(sklearn_gpr)\n",
    "\n",
    "def objective(trial):\n",
    "    model = get_model(trial)\n",
    "    model.fit(train_dataset)\n",
    "    \n",
    "    metric = dc.metrics.Metric(dc.metrics.mean_squared_error)\n",
    "    return model.evaluate(valid_dataset, [metric])['mean_squared_error']\n",
    "\n",
    "study = optuna.create_study(direction='minimize')\n",
    "study.optimize(objective, n_trials=100)\n"
   ]
  },
  {
   "cell_type": "code",
   "execution_count": 17,
   "metadata": {},
   "outputs": [
    {
     "name": "stdout",
     "output_type": "stream",
     "text": [
      "fitting model...\n",
      "model is fitted\n"
     ]
    }
   ],
   "source": [
    "# create the GPR model & fit the model\n",
    "output_variance = study.best_params['output_variance']\n",
    "length_scale = study.best_params['length_scale']\n",
    "noise_level = study.best_params['noise_level']\n",
    "kernel = output_variance**2 * Matern(length_scale=length_scale, length_scale_bounds='fixed') + WhiteKernel(noise_level=noise_level, noise_level_bounds='fixed')\n",
    "alpha = study.best_params['alpha']\n",
    "\n",
    "kernel = 1 * RBF()\n",
    "model = dc.models.SklearnModel(GaussianProcessRegressor(kernel=kernel, n_restarts_optimizer=200))\n",
    "\n",
    "print(\"fitting model...\")\n",
    "model.fit(train_dataset)\n",
    "print(\"model is fitted\")"
   ]
  },
  {
   "cell_type": "code",
   "execution_count": 18,
   "metadata": {},
   "outputs": [
    {
     "name": "stdout",
     "output_type": "stream",
     "text": [
      "Training set score: {'pearson_r2_score': 0.9999999999999993}\n",
      "Test set score: {'pearson_r2_score': 0.93009152982127}\n"
     ]
    }
   ],
   "source": [
    "#calculate r2 score\n",
    "metric = dc.metrics.Metric(dc.metrics.pearson_r2_score)\n",
    "print('Training set score:', model.evaluate(train_dataset, metric))\n",
    "test_score= model.evaluate(test_dataset, metric)\n",
    "print('Test set score:',test_score )"
   ]
  },
  {
   "cell_type": "code",
   "execution_count": 19,
   "metadata": {},
   "outputs": [
    {
     "name": "stdout",
     "output_type": "stream",
     "text": [
      "Training set score: {'mean_squared_error': 5.1829663354517504e-17}\n",
      "Test set score: {'mean_squared_error': 0.010856701736243198}\n"
     ]
    }
   ],
   "source": [
    "#calculate MSE score\n",
    "metric = dc.metrics.Metric(dc.metrics.mean_squared_error)\n",
    "print('Training set score:', model.evaluate(train_dataset, metric))\n",
    "print('Test set score:', model.evaluate(test_dataset, metric))"
   ]
  },
  {
   "cell_type": "code",
   "execution_count": 28,
   "metadata": {},
   "outputs": [
    {
     "name": "stdout",
     "output_type": "stream",
     "text": [
      "(39,)\n",
      "(39,)\n"
     ]
    }
   ],
   "source": [
    "#predict the r2_score and convert to string\n",
    "predicted = model.predict(test_dataset)\n",
    "\n",
    "#convert tekst to string, so it can be depicted in matplotlib\n",
    "number=list(test_score.values())[0]\n",
    "text = \"r2= \"+ str(round(number,3))\n",
    "\n",
    "real = test_dataset.y\n",
    "#remove extreme outliers:\n",
    "print(predicted.shape)\n",
    "for idx, value in enumerate(predicted):\n",
    "    if value >5:\n",
    "        print(\"outlier removed\")\n",
    "        predicted=np.delete(predicted,idx)\n",
    "        real=np.delete(test_dataset.y,idx)\n",
    "print(predicted.shape)\n",
    "\n",
    "score =r2_score(real, predicted)\n",
    "text = \"r2= \"+ str(round(score,3))"
   ]
  },
  {
   "cell_type": "code",
   "execution_count": 29,
   "metadata": {},
   "outputs": [
    {
     "data": {
      "image/png": "[encoded data removed]",
      "text/plain": [
       "<Figure size 640x480 with 1 Axes>"
      ]
     },
     "metadata": {},
     "output_type": "display_data"
    }
   ],
   "source": [
    "#plot the data\n",
    "import matplotlib.pyplot as plt\n",
    "\n",
    "x=[-10,0]\n",
    "y=[-10,0]\n",
    "plt.plot(x, y, linestyle=\"dashed\")\n",
    "plt.scatter(real, predicted, label=\"Observations\")\n",
    "plt.legend()\n",
    "plt.xlabel(\"experimental ionisation energy (eV)\")\n",
    "plt.ylabel(\"ML predicted ionisation energy (eV)\")\n",
    "plt.title(\"GPR with RDkit descriptors_DotProduct\")\n",
    "plt.text(-9,-2,text)\n",
    "plt.show()\n"
   ]
  }
 ],
 "metadata": {
  "kernelspec": {
   "display_name": "Python 3",
   "language": "python",
   "name": "python3"
  },
  "language_info": {
   "codemirror_mode": {
    "name": "ipython",
    "version": 3
   },
   "file_extension": ".py",
   "mimetype": "text/x-python",
   "name": "python",
   "nbconvert_exporter": "python",
   "pygments_lexer": "ipython3",
   "version": "3.10.2"
  }
 },
 "nbformat": 4,
 "nbformat_minor": 2
}
