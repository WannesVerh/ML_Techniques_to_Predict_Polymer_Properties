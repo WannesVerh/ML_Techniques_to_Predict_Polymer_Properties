{
 "cells": [
  {
   "cell_type": "markdown",
   "metadata": {},
   "source": [
    "This notebook is for generating the smile strings of the n-alkanes."
   ]
  },
  {
   "cell_type": "code",
   "execution_count": 1,
   "metadata": {},
   "outputs": [],
   "source": [
    "from rdkit import Chem\n",
    "import csv\n",
    "from rdkit.Chem.Descriptors import ExactMolWt"
   ]
  },
  {
   "cell_type": "code",
   "execution_count": 9,
   "metadata": {},
   "outputs": [
    {
     "data": {
      "text/plain": [
       "16.031300127999998"
      ]
     },
     "execution_count": 9,
     "metadata": {},
     "output_type": "execute_result"
    }
   ],
   "source": [
    "methane = 'C'\n",
    "mol = Chem.MolFromSmiles(methane,sanitize = True)\n",
    "molWt = ExactMolWt(mol)\n",
    "molWt"
   ]
  },
  {
   "cell_type": "code",
   "execution_count": 19,
   "metadata": {},
   "outputs": [],
   "source": [
    "with open('./csv_files/polyethanes.csv', 'w',newline='') as file:\n",
    "    writer = csv.writer(file)\n",
    "    writer.writerow([ 'smiles', 'MolWt'])   \n",
    "\n",
    "    for i in range(1,200):\n",
    "        smiles = methane*i\n",
    "        mol = Chem.MolFromSmiles(smiles,sanitize = True)\n",
    "        molWt = ExactMolWt(mol)\n",
    "        if molWt < 1350:\n",
    "            writer.writerow([smiles, molWt])\n",
    "        else:\n",
    "            break"
   ]
  }
 ],
 "metadata": {
  "kernelspec": {
   "display_name": "Python 3",
   "language": "python",
   "name": "python3"
  },
  "language_info": {
   "codemirror_mode": {
    "name": "ipython",
    "version": 3
   },
   "file_extension": ".py",
   "mimetype": "text/x-python",
   "name": "python",
   "nbconvert_exporter": "python",
   "pygments_lexer": "ipython3",
   "version": "3.10.2"
  }
 },
 "nbformat": 4,
 "nbformat_minor": 2
}
