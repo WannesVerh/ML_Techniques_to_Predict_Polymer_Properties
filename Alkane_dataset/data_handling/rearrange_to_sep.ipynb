{
 "cells": [
  {
   "cell_type": "markdown",
   "metadata": {},
   "source": [
    "This code is for seprating the combined dataset into a seperate dataset for each property.\n"
   ]
  },
  {
   "cell_type": "code",
   "execution_count": 1,
   "metadata": {},
   "outputs": [
    {
     "name": "stderr",
     "output_type": "stream",
     "text": [
      "C:\\Users\\wanne\\AppData\\Local\\Temp\\ipykernel_29548\\4056139722.py:1: DeprecationWarning: \n",
      "Pyarrow will become a required dependency of pandas in the next major release of pandas (pandas 3.0),\n",
      "(to allow more performant data types, such as the Arrow string type, and better interoperability with other libraries)\n",
      "but was not found to be installed on your system.\n",
      "If this would cause problems for you,\n",
      "please provide us feedback at https://github.com/pandas-dev/pandas/issues/54466\n",
      "        \n",
      "  import pandas as pd\n"
     ]
    }
   ],
   "source": [
    "import pandas as pd\n",
    "import csv"
   ]
  },
  {
   "cell_type": "code",
   "execution_count": 2,
   "metadata": {},
   "outputs": [],
   "source": [
    "smiles = []\n",
    "Mw = []\n",
    "PC = []\n",
    "RKTZRA = []\n",
    "SG = []\n",
    "TB = []\n",
    "TC = []\n",
    "ZC = []\n",
    "with open('../csv_files/CombinedDataset.csv', mode ='r')as file:\n",
    "  \n",
    "  csvFile = csv.reader(file)\n",
    "  for line in csvFile:\n",
    "    if line[0] == 'smiles':\n",
    "        continue\n",
    "    else: \n",
    "        smiles.append(line[0])\n",
    "        Mw.append(line[1])\n",
    "        PC.append(line[2])\n",
    "        RKTZRA.append(line[3])\n",
    "        SG.append(line[4])\n",
    "        TB.append(line[5])\n",
    "        TC.append(line[6])\n",
    "        ZC.append(line[7])\n",
    "  \n",
    "  # we now that some values are empty denoted as: '', now we write csv files without these strings\n"
   ]
  },
  {
   "cell_type": "code",
   "execution_count": 3,
   "metadata": {},
   "outputs": [],
   "source": [
    "\n",
    "property = [PC, RKTZRA, SG, TB, TC, ZC]\n",
    "names = [\"PC\", \"RKTZRA\", \"SG\", \"TB\", \"TC\", \"ZC\"]\n",
    "\n",
    "for i in range(len(property)):\n",
    "\n",
    "    filename = \"../csv_files/\" + \"combined_\" + names[i] + \".csv\"\n",
    "\n",
    "    # writing to csv file\n",
    "    with open(filename, 'w', newline='') as csvfile:\n",
    "        writer = csv.writer(csvfile)\n",
    "        fields = ['smiles', names[i]]        \n",
    "        writer.writerow(fields)\n",
    "\n",
    "        prop = property[i]\n",
    "        for x, value in enumerate(prop):\n",
    "            if value != '':\n",
    "                writer.writerow([smiles[x], value])\n",
    "           "
   ]
  }
 ],
 "metadata": {
  "kernelspec": {
   "display_name": "Python 3",
   "language": "python",
   "name": "python3"
  },
  "language_info": {
   "codemirror_mode": {
    "name": "ipython",
    "version": 3
   },
   "file_extension": ".py",
   "mimetype": "text/x-python",
   "name": "python",
   "nbconvert_exporter": "python",
   "pygments_lexer": "ipython3",
   "version": "3.10.2"
  }
 },
 "nbformat": 4,
 "nbformat_minor": 2
}
